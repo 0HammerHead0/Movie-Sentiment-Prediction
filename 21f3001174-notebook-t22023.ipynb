{
 "cells": [
  {
   "cell_type": "code",
   "execution_count": 1,
   "id": "96c4c2d7",
   "metadata": {
    "_cell_guid": "b1076dfc-b9ad-4769-8c92-a6c4dae69d19",
    "_uuid": "8f2839f25d086af736a60e9eeb907d3b93b6e0e5",
    "execution": {
     "iopub.execute_input": "2023-09-01T12:34:32.502659Z",
     "iopub.status.busy": "2023-09-01T12:34:32.502285Z",
     "iopub.status.idle": "2023-09-01T12:34:36.171515Z",
     "shell.execute_reply": "2023-09-01T12:34:36.170500Z"
    },
    "papermill": {
     "duration": 3.682475,
     "end_time": "2023-09-01T12:34:36.173678",
     "exception": false,
     "start_time": "2023-09-01T12:34:32.491203",
     "status": "completed"
    },
    "tags": []
   },
   "outputs": [],
   "source": [
    "import numpy as np\n",
    "import nltk\n",
    "from nltk.corpus import stopwords\n",
    "import re\n",
    "import seaborn as sns\n",
    "import pandas as pd\n",
    "from sklearn.preprocessing import MultiLabelBinarizer, LabelEncoder, MinMaxScaler, OneHotEncoder, StandardScaler, OrdinalEncoder\n",
    "from sklearn.feature_extraction import FeatureHasher\n",
    "from sklearn.impute import SimpleImputer\n",
    "from sklearn.ensemble import BaggingClassifier, RandomForestClassifier, GradientBoostingClassifier\n",
    "from sklearn.tree import DecisionTreeClassifier\n",
    "from sklearn.feature_extraction.text import CountVectorizer, TfidfVectorizer, TfidfTransformer\n",
    "from sklearn.model_selection import train_test_split, RandomizedSearchCV, GridSearchCV\n",
    "from sklearn.feature_selection import SelectKBest, f_classif\n",
    "from sklearn.neighbors import KNeighborsClassifier\n",
    "from sklearn.compose import ColumnTransformer\n",
    "from sklearn.pipeline import Pipeline\n",
    "from sklearn.preprocessing import FunctionTransformer\n",
    "from sklearn.linear_model import LogisticRegression\n",
    "from scipy.stats import randint, uniform\n",
    "from sklearn.base import BaseEstimator, TransformerMixin\n",
    "from sklearn.svm import SVC, LinearSVC\n",
    "from xgboost import XGBClassifier\n",
    "from sklearn.naive_bayes import MultinomialNB\n",
    "from sklearn.linear_model import SGDClassifier\n",
    "from sklearn.metrics import f1_score , r2_score\n",
    "from sklearn.neural_network import MLPClassifier\n",
    "import csv\n",
    "from sklearn.metrics import confusion_matrix\n",
    "import matplotlib.pyplot as plt\n",
    "\n",
    "\n",
    "from imblearn.over_sampling import SMOTE\n",
    "from imblearn.pipeline import Pipeline as imbPipeline\n",
    "\n",
    "# import os\n",
    "# for dirname, _, filenames in os.walk('/kaggle/input'):\n",
    "#     for filename in filenames:\n",
    "#         print(os.path.join(dirname, filename))\n",
    "\n",
    "# You can write up to 20GB to the current directory (/kaggle/working/) that gets preserved as output when you create a version using \"Save & Run All\" \n",
    "# You can also write temporary files to /kaggle/temp/, but they won't be saved outside of the current session"
   ]
  },
  {
   "cell_type": "code",
   "execution_count": 2,
   "id": "6f8741ef",
   "metadata": {
    "execution": {
     "iopub.execute_input": "2023-09-01T12:34:36.193842Z",
     "iopub.status.busy": "2023-09-01T12:34:36.193455Z",
     "iopub.status.idle": "2023-09-01T12:34:38.224688Z",
     "shell.execute_reply": "2023-09-01T12:34:38.222886Z"
    },
    "papermill": {
     "duration": 2.044097,
     "end_time": "2023-09-01T12:34:38.227120",
     "exception": false,
     "start_time": "2023-09-01T12:34:36.183023",
     "status": "completed"
    },
    "tags": []
   },
   "outputs": [],
   "source": [
    "train=pd.read_csv(\"/kaggle/input/sentiment-prediction-on-movie-reviews/train.csv\")\n",
    "test=pd.read_csv(\"/kaggle/input/sentiment-prediction-on-movie-reviews/test.csv\")\n",
    "movies=pd.read_csv(\"/kaggle/input/sentiment-prediction-on-movie-reviews/movies.csv\")"
   ]
  },
  {
   "cell_type": "markdown",
   "id": "a61e210d",
   "metadata": {
    "papermill": {
     "duration": 0.009,
     "end_time": "2023-09-01T12:34:38.245590",
     "exception": false,
     "start_time": "2023-09-01T12:34:38.236590",
     "status": "completed"
    },
    "tags": []
   },
   "source": [
    "# EDA"
   ]
  },
  {
   "cell_type": "code",
   "execution_count": 3,
   "id": "22b085e1",
   "metadata": {
    "execution": {
     "iopub.execute_input": "2023-09-01T12:34:38.265908Z",
     "iopub.status.busy": "2023-09-01T12:34:38.265529Z",
     "iopub.status.idle": "2023-09-01T12:34:38.305761Z",
     "shell.execute_reply": "2023-09-01T12:34:38.304576Z"
    },
    "papermill": {
     "duration": 0.053531,
     "end_time": "2023-09-01T12:34:38.308462",
     "exception": false,
     "start_time": "2023-09-01T12:34:38.254931",
     "status": "completed"
    },
    "tags": []
   },
   "outputs": [
    {
     "name": "stdout",
     "output_type": "stream",
     "text": [
      "Categorical Features:\n",
      "('movies', ['movieid', 'title', 'rating', 'ratingContents', 'releaseDateTheaters', 'releaseDateStreaming', 'genre', 'originalLanguage', 'director', 'boxOffice', 'distributor', 'soundType'])\n",
      "('train', ['movieid', 'reviewerName', 'reviewText', 'sentiment'])\n",
      "('test', ['movieid', 'reviewerName', 'reviewText'])\n",
      "\n",
      "Numerical Features:\n",
      "('movies', ['audienceScore', 'runtimeMinutes'])\n",
      "('train', [])\n",
      "('test', [])\n"
     ]
    },
    {
     "data": {
      "text/plain": [
       "[None, None, None]"
      ]
     },
     "execution_count": 3,
     "metadata": {},
     "output_type": "execute_result"
    }
   ],
   "source": [
    "categorical_features = {\"movies\":list(movies.select_dtypes(include=['object', 'category']).columns), \"train\":list(train.select_dtypes(include=['object', 'category']).columns),\"test\":list(test.select_dtypes(include=['object', 'category']).columns)}\n",
    "numerical_features = {\"movies\":list(movies.select_dtypes(include=['int', 'float', 'complex']).columns),\"train\":list(train.select_dtypes(include=['int', 'float', 'complex']).columns),\"test\":list(test.select_dtypes(include=['int', 'float', 'complex']).columns)}\n",
    "\n",
    "print(\"Categorical Features:\")\n",
    "[print(i) for i in categorical_features.items()]\n",
    "print(\"\")\n",
    "print(\"Numerical Features:\")\n",
    "[print(i) for i in numerical_features.items()]"
   ]
  },
  {
   "cell_type": "code",
   "execution_count": 4,
   "id": "fcb790b9",
   "metadata": {
    "execution": {
     "iopub.execute_input": "2023-09-01T12:34:38.331424Z",
     "iopub.status.busy": "2023-09-01T12:34:38.331040Z",
     "iopub.status.idle": "2023-09-01T12:34:38.685519Z",
     "shell.execute_reply": "2023-09-01T12:34:38.684496Z"
    },
    "papermill": {
     "duration": 0.369917,
     "end_time": "2023-09-01T12:34:38.688285",
     "exception": false,
     "start_time": "2023-09-01T12:34:38.318368",
     "status": "completed"
    },
    "tags": []
   },
   "outputs": [
    {
     "data": {
      "text/html": [
       "<div>\n",
       "<style scoped>\n",
       "    .dataframe tbody tr th:only-of-type {\n",
       "        vertical-align: middle;\n",
       "    }\n",
       "\n",
       "    .dataframe tbody tr th {\n",
       "        vertical-align: top;\n",
       "    }\n",
       "\n",
       "    .dataframe thead th {\n",
       "        text-align: right;\n",
       "    }\n",
       "</style>\n",
       "<table border=\"1\" class=\"dataframe\">\n",
       "  <thead>\n",
       "    <tr style=\"text-align: right;\">\n",
       "      <th></th>\n",
       "      <th>movieid</th>\n",
       "      <th>reviewerName</th>\n",
       "      <th>isFrequentReviewer</th>\n",
       "      <th>reviewText</th>\n",
       "      <th>sentiment</th>\n",
       "    </tr>\n",
       "  </thead>\n",
       "  <tbody>\n",
       "    <tr>\n",
       "      <th>count</th>\n",
       "      <td>162758</td>\n",
       "      <td>162758</td>\n",
       "      <td>162758</td>\n",
       "      <td>156311</td>\n",
       "      <td>162758</td>\n",
       "    </tr>\n",
       "    <tr>\n",
       "      <th>unique</th>\n",
       "      <td>16812</td>\n",
       "      <td>4482</td>\n",
       "      <td>2</td>\n",
       "      <td>155071</td>\n",
       "      <td>2</td>\n",
       "    </tr>\n",
       "    <tr>\n",
       "      <th>top</th>\n",
       "      <td>escape_the_terminator_tyler_durden_astonish</td>\n",
       "      <td>Sherri Morrison</td>\n",
       "      <td>False</td>\n",
       "      <td>Parental Content Review</td>\n",
       "      <td>POSITIVE</td>\n",
       "    </tr>\n",
       "    <tr>\n",
       "      <th>freq</th>\n",
       "      <td>708</td>\n",
       "      <td>962</td>\n",
       "      <td>113189</td>\n",
       "      <td>29</td>\n",
       "      <td>108761</td>\n",
       "    </tr>\n",
       "  </tbody>\n",
       "</table>\n",
       "</div>"
      ],
      "text/plain": [
       "                                            movieid     reviewerName  \\\n",
       "count                                        162758           162758   \n",
       "unique                                        16812             4482   \n",
       "top     escape_the_terminator_tyler_durden_astonish  Sherri Morrison   \n",
       "freq                                            708              962   \n",
       "\n",
       "       isFrequentReviewer               reviewText sentiment  \n",
       "count              162758                   156311    162758  \n",
       "unique                  2                   155071         2  \n",
       "top                 False  Parental Content Review  POSITIVE  \n",
       "freq               113189                       29    108761  "
      ]
     },
     "metadata": {},
     "output_type": "display_data"
    },
    {
     "data": {
      "text/html": [
       "<div>\n",
       "<style scoped>\n",
       "    .dataframe tbody tr th:only-of-type {\n",
       "        vertical-align: middle;\n",
       "    }\n",
       "\n",
       "    .dataframe tbody tr th {\n",
       "        vertical-align: top;\n",
       "    }\n",
       "\n",
       "    .dataframe thead th {\n",
       "        text-align: right;\n",
       "    }\n",
       "</style>\n",
       "<table border=\"1\" class=\"dataframe\">\n",
       "  <thead>\n",
       "    <tr style=\"text-align: right;\">\n",
       "      <th></th>\n",
       "      <th>movieid</th>\n",
       "      <th>reviewerName</th>\n",
       "      <th>isTopCritic</th>\n",
       "      <th>reviewText</th>\n",
       "    </tr>\n",
       "  </thead>\n",
       "  <tbody>\n",
       "    <tr>\n",
       "      <th>count</th>\n",
       "      <td>55315</td>\n",
       "      <td>55315</td>\n",
       "      <td>55315</td>\n",
       "      <td>52805</td>\n",
       "    </tr>\n",
       "    <tr>\n",
       "      <th>unique</th>\n",
       "      <td>16786</td>\n",
       "      <td>4495</td>\n",
       "      <td>2</td>\n",
       "      <td>52686</td>\n",
       "    </tr>\n",
       "    <tr>\n",
       "      <th>top</th>\n",
       "      <td>escape_the_terminator_tyler_durden_astonish</td>\n",
       "      <td>Sherri Morrison</td>\n",
       "      <td>False</td>\n",
       "      <td>Parental Content Review</td>\n",
       "    </tr>\n",
       "    <tr>\n",
       "      <th>freq</th>\n",
       "      <td>230</td>\n",
       "      <td>428</td>\n",
       "      <td>38428</td>\n",
       "      <td>12</td>\n",
       "    </tr>\n",
       "  </tbody>\n",
       "</table>\n",
       "</div>"
      ],
      "text/plain": [
       "                                            movieid     reviewerName  \\\n",
       "count                                         55315            55315   \n",
       "unique                                        16786             4495   \n",
       "top     escape_the_terminator_tyler_durden_astonish  Sherri Morrison   \n",
       "freq                                            230              428   \n",
       "\n",
       "       isTopCritic               reviewText  \n",
       "count        55315                    52805  \n",
       "unique           2                    52686  \n",
       "top          False  Parental Content Review  \n",
       "freq         38428                       12  "
      ]
     },
     "metadata": {},
     "output_type": "display_data"
    },
    {
     "data": {
      "text/html": [
       "<div>\n",
       "<style scoped>\n",
       "    .dataframe tbody tr th:only-of-type {\n",
       "        vertical-align: middle;\n",
       "    }\n",
       "\n",
       "    .dataframe tbody tr th {\n",
       "        vertical-align: top;\n",
       "    }\n",
       "\n",
       "    .dataframe thead th {\n",
       "        text-align: right;\n",
       "    }\n",
       "</style>\n",
       "<table border=\"1\" class=\"dataframe\">\n",
       "  <thead>\n",
       "    <tr style=\"text-align: right;\">\n",
       "      <th></th>\n",
       "      <th>audienceScore</th>\n",
       "      <th>runtimeMinutes</th>\n",
       "    </tr>\n",
       "  </thead>\n",
       "  <tbody>\n",
       "    <tr>\n",
       "      <th>count</th>\n",
       "      <td>73248.000000</td>\n",
       "      <td>129431.000000</td>\n",
       "    </tr>\n",
       "    <tr>\n",
       "      <th>mean</th>\n",
       "      <td>55.674967</td>\n",
       "      <td>93.708578</td>\n",
       "    </tr>\n",
       "    <tr>\n",
       "      <th>std</th>\n",
       "      <td>24.553648</td>\n",
       "      <td>28.129175</td>\n",
       "    </tr>\n",
       "    <tr>\n",
       "      <th>min</th>\n",
       "      <td>0.000000</td>\n",
       "      <td>1.000000</td>\n",
       "    </tr>\n",
       "    <tr>\n",
       "      <th>25%</th>\n",
       "      <td>37.000000</td>\n",
       "      <td>84.000000</td>\n",
       "    </tr>\n",
       "    <tr>\n",
       "      <th>50%</th>\n",
       "      <td>57.000000</td>\n",
       "      <td>92.000000</td>\n",
       "    </tr>\n",
       "    <tr>\n",
       "      <th>75%</th>\n",
       "      <td>76.000000</td>\n",
       "      <td>103.000000</td>\n",
       "    </tr>\n",
       "    <tr>\n",
       "      <th>max</th>\n",
       "      <td>100.000000</td>\n",
       "      <td>2700.000000</td>\n",
       "    </tr>\n",
       "  </tbody>\n",
       "</table>\n",
       "</div>"
      ],
      "text/plain": [
       "       audienceScore  runtimeMinutes\n",
       "count   73248.000000   129431.000000\n",
       "mean       55.674967       93.708578\n",
       "std        24.553648       28.129175\n",
       "min         0.000000        1.000000\n",
       "25%        37.000000       84.000000\n",
       "50%        57.000000       92.000000\n",
       "75%        76.000000      103.000000\n",
       "max       100.000000     2700.000000"
      ]
     },
     "metadata": {},
     "output_type": "display_data"
    }
   ],
   "source": [
    "display(train.describe())\n",
    "display(test.describe())\n",
    "display(movies.describe())"
   ]
  },
  {
   "cell_type": "code",
   "execution_count": 5,
   "id": "72c60444",
   "metadata": {
    "execution": {
     "iopub.execute_input": "2023-09-01T12:34:38.710595Z",
     "iopub.status.busy": "2023-09-01T12:34:38.710188Z",
     "iopub.status.idle": "2023-09-01T12:34:38.744737Z",
     "shell.execute_reply": "2023-09-01T12:34:38.743162Z"
    },
    "papermill": {
     "duration": 0.048633,
     "end_time": "2023-09-01T12:34:38.746996",
     "exception": false,
     "start_time": "2023-09-01T12:34:38.698363",
     "status": "completed"
    },
    "tags": []
   },
   "outputs": [
    {
     "data": {
      "text/html": [
       "<div>\n",
       "<style scoped>\n",
       "    .dataframe tbody tr th:only-of-type {\n",
       "        vertical-align: middle;\n",
       "    }\n",
       "\n",
       "    .dataframe tbody tr th {\n",
       "        vertical-align: top;\n",
       "    }\n",
       "\n",
       "    .dataframe thead th {\n",
       "        text-align: right;\n",
       "    }\n",
       "</style>\n",
       "<table border=\"1\" class=\"dataframe\">\n",
       "  <thead>\n",
       "    <tr style=\"text-align: right;\">\n",
       "      <th></th>\n",
       "      <th>movieid</th>\n",
       "      <th>reviewerName</th>\n",
       "      <th>isFrequentReviewer</th>\n",
       "      <th>reviewText</th>\n",
       "      <th>sentiment</th>\n",
       "    </tr>\n",
       "  </thead>\n",
       "  <tbody>\n",
       "    <tr>\n",
       "      <th>0</th>\n",
       "      <td>marvelous_pirate</td>\n",
       "      <td>Benjamin Henry</td>\n",
       "      <td>False</td>\n",
       "      <td>Henry Selick’s first movie since 2009’s Corali...</td>\n",
       "      <td>POSITIVE</td>\n",
       "    </tr>\n",
       "    <tr>\n",
       "      <th>1</th>\n",
       "      <td>tony_montana_frodo_baggins_v_rocky_balboa</td>\n",
       "      <td>Felicia Lopez</td>\n",
       "      <td>False</td>\n",
       "      <td>With a cast that reads like the Vogue Oscar pa...</td>\n",
       "      <td>NEGATIVE</td>\n",
       "    </tr>\n",
       "    <tr>\n",
       "      <th>2</th>\n",
       "      <td>darth_vader_katniss_everdeen_sorcerer_donnie_d...</td>\n",
       "      <td>Mr. Charles Burgess</td>\n",
       "      <td>True</td>\n",
       "      <td>Creed II does not give us anything but another...</td>\n",
       "      <td>POSITIVE</td>\n",
       "    </tr>\n",
       "    <tr>\n",
       "      <th>3</th>\n",
       "      <td>lara_croft_glimmer</td>\n",
       "      <td>Ryan Barrett</td>\n",
       "      <td>False</td>\n",
       "      <td>I know what you're thinking, but this is no Li...</td>\n",
       "      <td>POSITIVE</td>\n",
       "    </tr>\n",
       "    <tr>\n",
       "      <th>4</th>\n",
       "      <td>jason_bourne_surreal_the_terminator_indiana_jones</td>\n",
       "      <td>Alexander Glover</td>\n",
       "      <td>False</td>\n",
       "      <td>Director Fernando Meirelles tells the story wi...</td>\n",
       "      <td>POSITIVE</td>\n",
       "    </tr>\n",
       "  </tbody>\n",
       "</table>\n",
       "</div>"
      ],
      "text/plain": [
       "                                             movieid         reviewerName  \\\n",
       "0                                   marvelous_pirate       Benjamin Henry   \n",
       "1          tony_montana_frodo_baggins_v_rocky_balboa        Felicia Lopez   \n",
       "2  darth_vader_katniss_everdeen_sorcerer_donnie_d...  Mr. Charles Burgess   \n",
       "3                                 lara_croft_glimmer         Ryan Barrett   \n",
       "4  jason_bourne_surreal_the_terminator_indiana_jones     Alexander Glover   \n",
       "\n",
       "   isFrequentReviewer                                         reviewText  \\\n",
       "0               False  Henry Selick’s first movie since 2009’s Corali...   \n",
       "1               False  With a cast that reads like the Vogue Oscar pa...   \n",
       "2                True  Creed II does not give us anything but another...   \n",
       "3               False  I know what you're thinking, but this is no Li...   \n",
       "4               False  Director Fernando Meirelles tells the story wi...   \n",
       "\n",
       "  sentiment  \n",
       "0  POSITIVE  \n",
       "1  NEGATIVE  \n",
       "2  POSITIVE  \n",
       "3  POSITIVE  \n",
       "4  POSITIVE  "
      ]
     },
     "metadata": {},
     "output_type": "display_data"
    },
    {
     "data": {
      "text/html": [
       "<div>\n",
       "<style scoped>\n",
       "    .dataframe tbody tr th:only-of-type {\n",
       "        vertical-align: middle;\n",
       "    }\n",
       "\n",
       "    .dataframe tbody tr th {\n",
       "        vertical-align: top;\n",
       "    }\n",
       "\n",
       "    .dataframe thead th {\n",
       "        text-align: right;\n",
       "    }\n",
       "</style>\n",
       "<table border=\"1\" class=\"dataframe\">\n",
       "  <thead>\n",
       "    <tr style=\"text-align: right;\">\n",
       "      <th></th>\n",
       "      <th>movieid</th>\n",
       "      <th>reviewerName</th>\n",
       "      <th>isTopCritic</th>\n",
       "      <th>reviewText</th>\n",
       "    </tr>\n",
       "  </thead>\n",
       "  <tbody>\n",
       "    <tr>\n",
       "      <th>0</th>\n",
       "      <td>legend_marty_mcfly_oracle</td>\n",
       "      <td>John Kim</td>\n",
       "      <td>False</td>\n",
       "      <td>Green slowly cranks up the dread with style an...</td>\n",
       "    </tr>\n",
       "    <tr>\n",
       "      <th>1</th>\n",
       "      <td>terminator_katniss_everdeen_glimmer</td>\n",
       "      <td>Brian Chaney</td>\n",
       "      <td>False</td>\n",
       "      <td>Philip Noyce's direction is elegant and unforc...</td>\n",
       "    </tr>\n",
       "    <tr>\n",
       "      <th>2</th>\n",
       "      <td>james_bond_labyrinth_gollum</td>\n",
       "      <td>Danielle Parker</td>\n",
       "      <td>False</td>\n",
       "      <td>It wouldn't do to say what path Maria ultimate...</td>\n",
       "    </tr>\n",
       "    <tr>\n",
       "      <th>3</th>\n",
       "      <td>v_quest_han_solo_wondrous</td>\n",
       "      <td>Brittany Lane</td>\n",
       "      <td>False</td>\n",
       "      <td>Pig is not exactly the arthouse John Wick that...</td>\n",
       "    </tr>\n",
       "    <tr>\n",
       "      <th>4</th>\n",
       "      <td>enigma_hulk_surreal_starlight</td>\n",
       "      <td>Justin Willis</td>\n",
       "      <td>False</td>\n",
       "      <td>An imaginative no-budget musical of sorts abou...</td>\n",
       "    </tr>\n",
       "  </tbody>\n",
       "</table>\n",
       "</div>"
      ],
      "text/plain": [
       "                               movieid     reviewerName  isTopCritic  \\\n",
       "0            legend_marty_mcfly_oracle         John Kim        False   \n",
       "1  terminator_katniss_everdeen_glimmer     Brian Chaney        False   \n",
       "2          james_bond_labyrinth_gollum  Danielle Parker        False   \n",
       "3            v_quest_han_solo_wondrous    Brittany Lane        False   \n",
       "4        enigma_hulk_surreal_starlight    Justin Willis        False   \n",
       "\n",
       "                                          reviewText  \n",
       "0  Green slowly cranks up the dread with style an...  \n",
       "1  Philip Noyce's direction is elegant and unforc...  \n",
       "2  It wouldn't do to say what path Maria ultimate...  \n",
       "3  Pig is not exactly the arthouse John Wick that...  \n",
       "4  An imaginative no-budget musical of sorts abou...  "
      ]
     },
     "metadata": {},
     "output_type": "display_data"
    },
    {
     "data": {
      "text/html": [
       "<div>\n",
       "<style scoped>\n",
       "    .dataframe tbody tr th:only-of-type {\n",
       "        vertical-align: middle;\n",
       "    }\n",
       "\n",
       "    .dataframe tbody tr th {\n",
       "        vertical-align: top;\n",
       "    }\n",
       "\n",
       "    .dataframe thead th {\n",
       "        text-align: right;\n",
       "    }\n",
       "</style>\n",
       "<table border=\"1\" class=\"dataframe\">\n",
       "  <thead>\n",
       "    <tr style=\"text-align: right;\">\n",
       "      <th></th>\n",
       "      <th>movieid</th>\n",
       "      <th>title</th>\n",
       "      <th>audienceScore</th>\n",
       "      <th>rating</th>\n",
       "      <th>ratingContents</th>\n",
       "      <th>releaseDateTheaters</th>\n",
       "      <th>releaseDateStreaming</th>\n",
       "      <th>runtimeMinutes</th>\n",
       "      <th>genre</th>\n",
       "      <th>originalLanguage</th>\n",
       "      <th>director</th>\n",
       "      <th>boxOffice</th>\n",
       "      <th>distributor</th>\n",
       "      <th>soundType</th>\n",
       "    </tr>\n",
       "  </thead>\n",
       "  <tbody>\n",
       "    <tr>\n",
       "      <th>0</th>\n",
       "      <td>han_solo_heroic_myth_wonder_woman</td>\n",
       "      <td>Han Solo Heroic Myth Wonder Woman</td>\n",
       "      <td>50.0</td>\n",
       "      <td>NaN</td>\n",
       "      <td>NaN</td>\n",
       "      <td>NaN</td>\n",
       "      <td>2018-08-25</td>\n",
       "      <td>75.0</td>\n",
       "      <td>Comedy, Horror, Sci-fi</td>\n",
       "      <td>English</td>\n",
       "      <td>Claude Nicolet</td>\n",
       "      <td>NaN</td>\n",
       "      <td>NaN</td>\n",
       "      <td>NaN</td>\n",
       "    </tr>\n",
       "    <tr>\n",
       "      <th>1</th>\n",
       "      <td>voyage_tyler_durden_han_solo_stardust</td>\n",
       "      <td>Voyage Tyler Durden Han Solo Stardust</td>\n",
       "      <td>NaN</td>\n",
       "      <td>NaN</td>\n",
       "      <td>NaN</td>\n",
       "      <td>NaN</td>\n",
       "      <td>2020-02-11</td>\n",
       "      <td>114.0</td>\n",
       "      <td>Drama</td>\n",
       "      <td>English</td>\n",
       "      <td>Nathan Haack</td>\n",
       "      <td>NaN</td>\n",
       "      <td>NaN</td>\n",
       "      <td>NaN</td>\n",
       "    </tr>\n",
       "    <tr>\n",
       "      <th>2</th>\n",
       "      <td>norman_bates_ferris_bueller_hermione_granger_v...</td>\n",
       "      <td>Norman Bates Ferris Bueller Hermione Granger V...</td>\n",
       "      <td>43.0</td>\n",
       "      <td>NaN</td>\n",
       "      <td>NaN</td>\n",
       "      <td>NaN</td>\n",
       "      <td>NaN</td>\n",
       "      <td>120.0</td>\n",
       "      <td>Drama</td>\n",
       "      <td>Korean</td>\n",
       "      <td>Theresa Smith</td>\n",
       "      <td>NaN</td>\n",
       "      <td>NaN</td>\n",
       "      <td>NaN</td>\n",
       "    </tr>\n",
       "    <tr>\n",
       "      <th>3</th>\n",
       "      <td>elegant_hermione_granger</td>\n",
       "      <td>Elegant Hermione Granger</td>\n",
       "      <td>60.0</td>\n",
       "      <td>NaN</td>\n",
       "      <td>NaN</td>\n",
       "      <td>NaN</td>\n",
       "      <td>2020-10-23</td>\n",
       "      <td>90.0</td>\n",
       "      <td>Action, Mystery &amp; thriller</td>\n",
       "      <td>English</td>\n",
       "      <td>Donald Lewis</td>\n",
       "      <td>NaN</td>\n",
       "      <td>NaN</td>\n",
       "      <td>NaN</td>\n",
       "    </tr>\n",
       "    <tr>\n",
       "      <th>4</th>\n",
       "      <td>adventure_rocky_balboa</td>\n",
       "      <td>Adventure Rocky Balboa</td>\n",
       "      <td>70.0</td>\n",
       "      <td>NaN</td>\n",
       "      <td>NaN</td>\n",
       "      <td>NaN</td>\n",
       "      <td>2017-03-27</td>\n",
       "      <td>80.0</td>\n",
       "      <td>Fantasy, Adventure, Animation</td>\n",
       "      <td>English</td>\n",
       "      <td>Howard Simms</td>\n",
       "      <td>NaN</td>\n",
       "      <td>NaN</td>\n",
       "      <td>NaN</td>\n",
       "    </tr>\n",
       "  </tbody>\n",
       "</table>\n",
       "</div>"
      ],
      "text/plain": [
       "                                             movieid  \\\n",
       "0                  han_solo_heroic_myth_wonder_woman   \n",
       "1              voyage_tyler_durden_han_solo_stardust   \n",
       "2  norman_bates_ferris_bueller_hermione_granger_v...   \n",
       "3                           elegant_hermione_granger   \n",
       "4                             adventure_rocky_balboa   \n",
       "\n",
       "                                               title  audienceScore rating  \\\n",
       "0                  Han Solo Heroic Myth Wonder Woman           50.0    NaN   \n",
       "1              Voyage Tyler Durden Han Solo Stardust            NaN    NaN   \n",
       "2  Norman Bates Ferris Bueller Hermione Granger V...           43.0    NaN   \n",
       "3                           Elegant Hermione Granger           60.0    NaN   \n",
       "4                             Adventure Rocky Balboa           70.0    NaN   \n",
       "\n",
       "  ratingContents releaseDateTheaters releaseDateStreaming  runtimeMinutes  \\\n",
       "0            NaN                 NaN           2018-08-25            75.0   \n",
       "1            NaN                 NaN           2020-02-11           114.0   \n",
       "2            NaN                 NaN                  NaN           120.0   \n",
       "3            NaN                 NaN           2020-10-23            90.0   \n",
       "4            NaN                 NaN           2017-03-27            80.0   \n",
       "\n",
       "                           genre originalLanguage        director boxOffice  \\\n",
       "0         Comedy, Horror, Sci-fi          English  Claude Nicolet       NaN   \n",
       "1                          Drama          English    Nathan Haack       NaN   \n",
       "2                          Drama           Korean   Theresa Smith       NaN   \n",
       "3     Action, Mystery & thriller          English    Donald Lewis       NaN   \n",
       "4  Fantasy, Adventure, Animation          English    Howard Simms       NaN   \n",
       "\n",
       "  distributor soundType  \n",
       "0         NaN       NaN  \n",
       "1         NaN       NaN  \n",
       "2         NaN       NaN  \n",
       "3         NaN       NaN  \n",
       "4         NaN       NaN  "
      ]
     },
     "metadata": {},
     "output_type": "display_data"
    }
   ],
   "source": [
    "display(train.head())\n",
    "display(test.head())\n",
    "display(movies.head())"
   ]
  },
  {
   "cell_type": "code",
   "execution_count": 6,
   "id": "bc06202a",
   "metadata": {
    "execution": {
     "iopub.execute_input": "2023-09-01T12:34:38.772422Z",
     "iopub.status.busy": "2023-09-01T12:34:38.772058Z",
     "iopub.status.idle": "2023-09-01T12:34:39.611853Z",
     "shell.execute_reply": "2023-09-01T12:34:39.610706Z"
    },
    "papermill": {
     "duration": 0.85502,
     "end_time": "2023-09-01T12:34:39.614198",
     "exception": false,
     "start_time": "2023-09-01T12:34:38.759178",
     "status": "completed"
    },
    "tags": []
   },
   "outputs": [
    {
     "data": {
      "image/png": "[encoded data removed]",
      "text/plain": [
       "<Figure size 1200x600 with 1 Axes>"
      ]
     },
     "metadata": {},
     "output_type": "display_data"
    },
    {
     "data": {
      "image/png": "[encoded data removed]",
      "text/plain": [
       "<Figure size 1200x600 with 1 Axes>"
      ]
     },
     "metadata": {},
     "output_type": "display_data"
    }
   ],
   "source": [
    "def plot_missing_values(data, title):\n",
    "    missing_percent = (data.isnull().sum() / len(data)) * 100\n",
    "    missing_percent = missing_percent.sort_values(ascending=False)\n",
    "\n",
    "    # Plot the missing values\n",
    "    plt.figure(figsize=(12, 6))\n",
    "    plt.bar(missing_percent.index, missing_percent.values)\n",
    "    plt.xlabel('Columns')\n",
    "    plt.ylabel('Percentage of Missing Values')\n",
    "    plt.xticks(rotation=45)\n",
    "    plt.title(title)\n",
    "    plt.show()\n",
    "\n",
    "plot_missing_values(movies, 'Percentage of Missing Values in Movies Dataset')\n",
    "\n",
    "plot_missing_values(train, 'Percentage of Missing Values in Train Dataset')"
   ]
  },
  {
   "cell_type": "markdown",
   "id": "9830c975",
   "metadata": {
    "papermill": {
     "duration": 0.011431,
     "end_time": "2023-09-01T12:34:39.638400",
     "exception": false,
     "start_time": "2023-09-01T12:34:39.626969",
     "status": "completed"
    },
    "tags": []
   },
   "source": [
    "This plot gives us a general idea of the percentage of missing  values in both the  train and movies dataset.\n",
    "Based on this , columns like rating , ratingContents , boxOffice , soundType , distributor and releaseDateTheaters were excluded first.\n",
    "Then features like releaseDateStreaming( similar to releaseDateTheaters) and original language was also excluded."
   ]
  },
  {
   "cell_type": "code",
   "execution_count": 7,
   "id": "117bda08",
   "metadata": {
    "execution": {
     "iopub.execute_input": "2023-09-01T12:34:39.666415Z",
     "iopub.status.busy": "2023-09-01T12:34:39.665405Z",
     "iopub.status.idle": "2023-09-01T12:34:39.730387Z",
     "shell.execute_reply": "2023-09-01T12:34:39.729021Z"
    },
    "papermill": {
     "duration": 0.082291,
     "end_time": "2023-09-01T12:34:39.732974",
     "exception": false,
     "start_time": "2023-09-01T12:34:39.650683",
     "status": "completed"
    },
    "tags": []
   },
   "outputs": [
    {
     "name": "stdout",
     "output_type": "stream",
     "text": [
      "Unseen value count-> {'movieid': 104, 'reviewerName': 138}\n"
     ]
    }
   ],
   "source": [
    "def check_values_not_in_train(test, train, columns):\n",
    "    not_in_train = {}\n",
    "    for column in columns:\n",
    "        unique_values_test = set(test[column].unique())\n",
    "        unique_values_train = set(train[column].unique())\n",
    "        difference = unique_values_test - unique_values_train\n",
    "        not_in_train[column] = len(difference)\n",
    "    return not_in_train\n",
    "columns_to_check = ['movieid', 'reviewerName']\n",
    "not_in_train = check_values_not_in_train(test, train, columns_to_check)\n",
    "print(\"Unseen value count->\",not_in_train)"
   ]
  },
  {
   "cell_type": "markdown",
   "id": "ca5da9c0",
   "metadata": {
    "papermill": {
     "duration": 0.01251,
     "end_time": "2023-09-01T12:34:39.761233",
     "exception": false,
     "start_time": "2023-09-01T12:34:39.748723",
     "status": "completed"
    },
    "tags": []
   },
   "source": [
    "It was also found during training of the baseline model that there are certain movieids and reviewerNames that were not present in the train but appeared in the test, so I researched about this on the internet and found that featureHasher could help in this scenario. But featureHasher produced inconsistent results in my previous submissions. Therefore I though it would be best to remove them and try with the other features first."
   ]
  },
  {
   "cell_type": "markdown",
   "id": "bbbad7f9",
   "metadata": {
    "papermill": {
     "duration": 0.013747,
     "end_time": "2023-09-01T12:34:39.787557",
     "exception": false,
     "start_time": "2023-09-01T12:34:39.773810",
     "status": "completed"
    },
    "tags": []
   },
   "source": [
    "# choosing features"
   ]
  },
  {
   "cell_type": "code",
   "execution_count": 8,
   "id": "853a2664",
   "metadata": {
    "execution": {
     "iopub.execute_input": "2023-09-01T12:34:39.815071Z",
     "iopub.status.busy": "2023-09-01T12:34:39.814683Z",
     "iopub.status.idle": "2023-09-01T12:34:40.138463Z",
     "shell.execute_reply": "2023-09-01T12:34:40.137275Z"
    },
    "papermill": {
     "duration": 0.340166,
     "end_time": "2023-09-01T12:34:40.141062",
     "exception": false,
     "start_time": "2023-09-01T12:34:39.800896",
     "status": "completed"
    },
    "tags": []
   },
   "outputs": [],
   "source": [
    "movies = movies.drop_duplicates(subset='movieid', keep='first')\n",
    "train_df_merged = train.merge(movies[['movieid','genre','director','runtimeMinutes','audienceScore','ratingContents']], on='movieid', how='left')\n",
    "test_df_merged = test.merge(movies[['movieid', 'genre','director','runtimeMinutes','audienceScore','ratingContents']], on='movieid', how='left')"
   ]
  },
  {
   "cell_type": "code",
   "execution_count": 9,
   "id": "4da74101",
   "metadata": {
    "execution": {
     "iopub.execute_input": "2023-09-01T12:34:40.168350Z",
     "iopub.status.busy": "2023-09-01T12:34:40.167971Z",
     "iopub.status.idle": "2023-09-01T12:34:40.276739Z",
     "shell.execute_reply": "2023-09-01T12:34:40.275248Z"
    },
    "papermill": {
     "duration": 0.125361,
     "end_time": "2023-09-01T12:34:40.279445",
     "exception": false,
     "start_time": "2023-09-01T12:34:40.154084",
     "status": "completed"
    },
    "tags": []
   },
   "outputs": [],
   "source": [
    "X_train = train_df_merged[['reviewText','genre','director','runtimeMinutes','audienceScore','ratingContents']]\n",
    "X_test = test_df_merged[['reviewText','genre','director','runtimeMinutes','audienceScore','ratingContents']]\n",
    "y_train= train_df_merged['sentiment'].apply(lambda x: 1 if x == 'POSITIVE' else 0)"
   ]
  },
  {
   "cell_type": "code",
   "execution_count": 10,
   "id": "88297697",
   "metadata": {
    "execution": {
     "iopub.execute_input": "2023-09-01T12:34:40.305817Z",
     "iopub.status.busy": "2023-09-01T12:34:40.305436Z",
     "iopub.status.idle": "2023-09-01T12:34:40.312766Z",
     "shell.execute_reply": "2023-09-01T12:34:40.310635Z"
    },
    "papermill": {
     "duration": 0.023639,
     "end_time": "2023-09-01T12:34:40.315447",
     "exception": false,
     "start_time": "2023-09-01T12:34:40.291808",
     "status": "completed"
    },
    "tags": []
   },
   "outputs": [
    {
     "name": "stdout",
     "output_type": "stream",
     "text": [
      "Index(['reviewText', 'genre', 'director', 'runtimeMinutes', 'audienceScore',\n",
      "       'ratingContents'],\n",
      "      dtype='object')\n",
      "Index(['reviewText', 'genre', 'director', 'runtimeMinutes', 'audienceScore',\n",
      "       'ratingContents'],\n",
      "      dtype='object')\n"
     ]
    }
   ],
   "source": [
    "print(X_train.columns)\n",
    "print(X_test.columns)"
   ]
  },
  {
   "cell_type": "code",
   "execution_count": 11,
   "id": "f943aaa6",
   "metadata": {
    "execution": {
     "iopub.execute_input": "2023-09-01T12:34:40.344726Z",
     "iopub.status.busy": "2023-09-01T12:34:40.344354Z",
     "iopub.status.idle": "2023-09-01T12:34:43.125007Z",
     "shell.execute_reply": "2023-09-01T12:34:43.124139Z"
    },
    "papermill": {
     "duration": 2.798036,
     "end_time": "2023-09-01T12:34:43.126999",
     "exception": false,
     "start_time": "2023-09-01T12:34:40.328963",
     "status": "completed"
    },
    "tags": []
   },
   "outputs": [
    {
     "data": {
      "image/png": "[encoded data removed]",
      "text/plain": [
       "<Figure size 1200x500 with 2 Axes>"
      ]
     },
     "metadata": {},
     "output_type": "display_data"
    }
   ],
   "source": [
    "def num_plot():\n",
    "    cols = ['audienceScore', 'runtimeMinutes']\n",
    "    plt.figure(figsize=(12, 5))\n",
    "    for i, col in enumerate(cols, 1):\n",
    "        plt.subplot(1, 2, i)\n",
    "        sns.histplot(data=X_train, x=col, kde=True)\n",
    "        plt.title(f'Distribution of {col}')\n",
    "        plt.xlabel(col)\n",
    "        plt.ylabel('Frequency')\n",
    "    plt.tight_layout()\n",
    "    plt.show()\n",
    "num_plot()"
   ]
  },
  {
   "cell_type": "code",
   "execution_count": 12,
   "id": "1771022e",
   "metadata": {
    "execution": {
     "iopub.execute_input": "2023-09-01T12:34:43.156323Z",
     "iopub.status.busy": "2023-09-01T12:34:43.155418Z",
     "iopub.status.idle": "2023-09-01T12:34:43.211070Z",
     "shell.execute_reply": "2023-09-01T12:34:43.209728Z"
    },
    "papermill": {
     "duration": 0.073894,
     "end_time": "2023-09-01T12:34:43.213860",
     "exception": false,
     "start_time": "2023-09-01T12:34:43.139966",
     "status": "completed"
    },
    "tags": []
   },
   "outputs": [
    {
     "name": "stderr",
     "output_type": "stream",
     "text": [
      "/tmp/ipykernel_20/3667120262.py:1: SettingWithCopyWarning: \n",
      "A value is trying to be set on a copy of a slice from a DataFrame.\n",
      "Try using .loc[row_indexer,col_indexer] = value instead\n",
      "\n",
      "See the caveats in the documentation: https://pandas.pydata.org/pandas-docs/stable/user_guide/indexing.html#returning-a-view-versus-a-copy\n",
      "  X_train['reviewText']=X_train['reviewText'].fillna('None')\n",
      "/tmp/ipykernel_20/3667120262.py:2: SettingWithCopyWarning: \n",
      "A value is trying to be set on a copy of a slice from a DataFrame.\n",
      "Try using .loc[row_indexer,col_indexer] = value instead\n",
      "\n",
      "See the caveats in the documentation: https://pandas.pydata.org/pandas-docs/stable/user_guide/indexing.html#returning-a-view-versus-a-copy\n",
      "  X_test['reviewText']=X_test['reviewText'].fillna('None')\n"
     ]
    }
   ],
   "source": [
    "X_train['reviewText']=X_train['reviewText'].fillna('None')\n",
    "X_test['reviewText']=X_test['reviewText'].fillna('None')"
   ]
  },
  {
   "cell_type": "markdown",
   "id": "d063f8f5",
   "metadata": {
    "papermill": {
     "duration": 0.013825,
     "end_time": "2023-09-01T12:34:43.241159",
     "exception": false,
     "start_time": "2023-09-01T12:34:43.227334",
     "status": "completed"
    },
    "tags": []
   },
   "source": [
    "# Custom listify function to convert each row of genre to a list"
   ]
  },
  {
   "cell_type": "code",
   "execution_count": 13,
   "id": "a1610dab",
   "metadata": {
    "execution": {
     "iopub.execute_input": "2023-09-01T12:34:43.273423Z",
     "iopub.status.busy": "2023-09-01T12:34:43.271718Z",
     "iopub.status.idle": "2023-09-01T12:34:43.277884Z",
     "shell.execute_reply": "2023-09-01T12:34:43.276722Z"
    },
    "papermill": {
     "duration": 0.024058,
     "end_time": "2023-09-01T12:34:43.280149",
     "exception": false,
     "start_time": "2023-09-01T12:34:43.256091",
     "status": "completed"
    },
    "tags": []
   },
   "outputs": [],
   "source": [
    "def listify_genres(x):\n",
    "    if isinstance(x[0], str):\n",
    "        return [x[0]]\n",
    "    return list(x[0])"
   ]
  },
  {
   "cell_type": "markdown",
   "id": "71c1337c",
   "metadata": {
    "papermill": {
     "duration": 0.013123,
     "end_time": "2023-09-01T12:34:43.306558",
     "exception": false,
     "start_time": "2023-09-01T12:34:43.293435",
     "status": "completed"
    },
    "tags": []
   },
   "source": [
    "# Custom Class for 'genres' "
   ]
  },
  {
   "cell_type": "code",
   "execution_count": 14,
   "id": "b16c32e4",
   "metadata": {
    "execution": {
     "iopub.execute_input": "2023-09-01T12:34:43.335390Z",
     "iopub.status.busy": "2023-09-01T12:34:43.334690Z",
     "iopub.status.idle": "2023-09-01T12:34:43.416680Z",
     "shell.execute_reply": "2023-09-01T12:34:43.415232Z"
    },
    "papermill": {
     "duration": 0.099444,
     "end_time": "2023-09-01T12:34:43.419277",
     "exception": false,
     "start_time": "2023-09-01T12:34:43.319833",
     "status": "completed"
    },
    "tags": []
   },
   "outputs": [],
   "source": [
    "X_train, X_val, y_train, y_val = train_test_split(X_train, y_train, test_size=0.2, random_state=42)\n",
    "class MultiLabelBinarizerWrapper(BaseEstimator, TransformerMixin):\n",
    "    def __init__(self, classes=None, sparse_output=False):\n",
    "        self.classes = classes\n",
    "        self.sparse_output = sparse_output\n",
    "        self.encoder = MultiLabelBinarizer(classes=self.classes, sparse_output=self.sparse_output)\n",
    "        \n",
    "    def fit(self, X, y=None):\n",
    "        self.encoder.fit(X)\n",
    "        return self\n",
    "    \n",
    "    def transform(self, X, y=None):\n",
    "        # Handling unknown genre combinations\n",
    "        for idx, item in enumerate(X):\n",
    "            X[idx] = [genre if genre in self.encoder.classes_ else 'unknown' for genre in item]\n",
    "        return self.encoder.transform(X)"
   ]
  },
  {
   "cell_type": "markdown",
   "id": "2565845f",
   "metadata": {
    "papermill": {
     "duration": 0.012373,
     "end_time": "2023-09-01T12:34:43.444580",
     "exception": false,
     "start_time": "2023-09-01T12:34:43.432207",
     "status": "completed"
    },
    "tags": []
   },
   "source": [
    "# Custom listify function and class to handle 'ratingsContents' of the form '[\"\",\"\",\"\"]'"
   ]
  },
  {
   "cell_type": "code",
   "execution_count": 15,
   "id": "25a06cb1",
   "metadata": {
    "execution": {
     "iopub.execute_input": "2023-09-01T12:34:43.471657Z",
     "iopub.status.busy": "2023-09-01T12:34:43.471285Z",
     "iopub.status.idle": "2023-09-01T12:34:43.479638Z",
     "shell.execute_reply": "2023-09-01T12:34:43.478190Z"
    },
    "papermill": {
     "duration": 0.024727,
     "end_time": "2023-09-01T12:34:43.482043",
     "exception": false,
     "start_time": "2023-09-01T12:34:43.457316",
     "status": "completed"
    },
    "tags": []
   },
   "outputs": [],
   "source": [
    "def convert_to_list(x):\n",
    "    if isinstance(x, str) and x.startswith(\"[\") and x.endswith(\"]\"):\n",
    "        items = x[1:-1].split(',')\n",
    "        return [item.strip().strip('\"').strip(\"'\") for item in items]\n",
    "    return [\"No content\"]\n",
    "class RatingContentsBinarizer(BaseEstimator, TransformerMixin):\n",
    "    def __init__(self, classes=None, sparse_output=False):\n",
    "        self.classes = classes\n",
    "        self.sparse_output = sparse_output\n",
    "        self.encoder = MultiLabelBinarizer(classes=self.classes, sparse_output=self.sparse_output)\n",
    "        \n",
    "    def fit(self, X, y=None):\n",
    "        self.encoder.fit(X)\n",
    "        return self\n",
    "    \n",
    "    def transform(self, X, y=None):\n",
    "#         for idx, item in enumerate(X):\n",
    "#             X[idx] = [rating_content if rating_content in self.encoder.classes_ else 'unknown' for rating_content in item]\n",
    "        return self.encoder.transform(X)"
   ]
  },
  {
   "cell_type": "markdown",
   "id": "93fcd6f4",
   "metadata": {
    "papermill": {
     "duration": 0.012258,
     "end_time": "2023-09-01T12:34:43.507073",
     "exception": false,
     "start_time": "2023-09-01T12:34:43.494815",
     "status": "completed"
    },
    "tags": []
   },
   "source": [
    "The value of the below k_features was found by doing multiple iterations over different values startin from 1000 upto 8000 and it was found that 7500 gave the best score on validation set without exceeding the computational limit"
   ]
  },
  {
   "cell_type": "code",
   "execution_count": 16,
   "id": "01e208dc",
   "metadata": {
    "execution": {
     "iopub.execute_input": "2023-09-01T12:34:43.534178Z",
     "iopub.status.busy": "2023-09-01T12:34:43.533795Z",
     "iopub.status.idle": "2023-09-01T12:34:43.538990Z",
     "shell.execute_reply": "2023-09-01T12:34:43.537648Z"
    },
    "papermill": {
     "duration": 0.022047,
     "end_time": "2023-09-01T12:34:43.541632",
     "exception": false,
     "start_time": "2023-09-01T12:34:43.519585",
     "status": "completed"
    },
    "tags": []
   },
   "outputs": [],
   "source": [
    "k_features = 7500"
   ]
  },
  {
   "cell_type": "markdown",
   "id": "b6f8c0ab",
   "metadata": {
    "papermill": {
     "duration": 0.014083,
     "end_time": "2023-09-01T12:34:43.568931",
     "exception": false,
     "start_time": "2023-09-01T12:34:43.554848",
     "status": "completed"
    },
    "tags": []
   },
   "source": [
    "# Pipeline"
   ]
  },
  {
   "cell_type": "code",
   "execution_count": 17,
   "id": "29d65868",
   "metadata": {
    "execution": {
     "iopub.execute_input": "2023-09-01T12:34:43.598164Z",
     "iopub.status.busy": "2023-09-01T12:34:43.597796Z",
     "iopub.status.idle": "2023-09-01T12:34:43.610247Z",
     "shell.execute_reply": "2023-09-01T12:34:43.609509Z"
    },
    "papermill": {
     "duration": 0.029811,
     "end_time": "2023-09-01T12:34:43.612458",
     "exception": false,
     "start_time": "2023-09-01T12:34:43.582647",
     "status": "completed"
    },
    "tags": []
   },
   "outputs": [],
   "source": [
    "num_pipeline = Pipeline([\n",
    "    ('impute', SimpleImputer(strategy='mean')),\n",
    "    ('scale', StandardScaler())\n",
    "])\n",
    "director_pipeline = Pipeline([\n",
    "    ('impute', SimpleImputer(strategy='constant', fill_value='unknown')),\n",
    "    ('onehot', OneHotEncoder(handle_unknown='ignore'))\n",
    "])\n",
    "genre_pipeline = Pipeline([\n",
    "    ('impute', SimpleImputer(strategy='constant', fill_value='unknown')),\n",
    "    ('listify', FunctionTransformer(lambda x: [listify_genres(item) for item in x], validate=False)),\n",
    "    ('encode', MultiLabelBinarizerWrapper())\n",
    "])\n",
    "rating_contents_pipeline = Pipeline([\n",
    "    ('impute', SimpleImputer(strategy='constant', fill_value='unknown')),\n",
    "    ('encode', RatingContentsBinarizer())\n",
    "])\n",
    "\n",
    "preprocessor_updated = ColumnTransformer(\n",
    "    transformers=[\n",
    "        ('text', TfidfVectorizer(stop_words='english', max_features=10000, ngram_range=(1, 1)), 'reviewText'),\n",
    "        ('aud_num', num_pipeline, ['audienceScore']),\n",
    "        ('min_num', num_pipeline, ['runtimeMinutes']), \n",
    "        ('genre', genre_pipeline, ['genre']),\n",
    "        ('ratingContents',rating_contents_pipeline,['ratingContents']),\n",
    "        ('director', director_pipeline, ['director'])\n",
    "    ])\n",
    "\n",
    "GradBoost = Pipeline([\n",
    "    ('preprocessor', preprocessor_updated),\n",
    "    ('classifier', GradientBoostingClassifier(random_state=42))\n",
    "])\n",
    "logreg_pipeline = Pipeline([\n",
    "    ('preprocessor', preprocessor_updated),\n",
    "    ('feature_selection', SelectKBest(f_classif, k=k_features)),\n",
    "    ('classifier', LogisticRegression(max_iter=1000,solver='saga',random_state=42))\n",
    "])\n",
    "sgd_pipeline = Pipeline([\n",
    "    ('preprocessor', preprocessor_updated),\n",
    "    ('feature_selection', SelectKBest(f_classif, k=k_features)),\n",
    "    ('classifier', SGDClassifier(loss='hinge',penalty='l2',alpha=0.0001,max_iter=1000,tol=1e-3,random_state=42))\n",
    "])\n",
    "SVC_pipeline = Pipeline([\n",
    "    ('preprocessor', preprocessor_updated),\n",
    "    ('feature_selection', SelectKBest(f_classif, k=k_features)),\n",
    "    ('classifier', SVC())\n",
    "])\n",
    "MKPClass = Pipeline([\n",
    "    ('preprocessor', preprocessor_updated),\n",
    "    ('classifier', MLPClassifier(random_state=42))\n",
    "])"
   ]
  },
  {
   "cell_type": "markdown",
   "id": "187eabc7",
   "metadata": {
    "papermill": {
     "duration": 0.012597,
     "end_time": "2023-09-01T12:34:43.637843",
     "exception": false,
     "start_time": "2023-09-01T12:34:43.625246",
     "status": "completed"
    },
    "tags": []
   },
   "source": [
    "# Param Grid for Parameter Tuning"
   ]
  },
  {
   "cell_type": "code",
   "execution_count": 18,
   "id": "bce1215e",
   "metadata": {
    "execution": {
     "iopub.execute_input": "2023-09-01T12:34:43.666199Z",
     "iopub.status.busy": "2023-09-01T12:34:43.664904Z",
     "iopub.status.idle": "2023-09-01T12:34:43.672558Z",
     "shell.execute_reply": "2023-09-01T12:34:43.671631Z"
    },
    "papermill": {
     "duration": 0.02384,
     "end_time": "2023-09-01T12:34:43.674548",
     "exception": false,
     "start_time": "2023-09-01T12:34:43.650708",
     "status": "completed"
    },
    "tags": []
   },
   "outputs": [],
   "source": [
    "param_grid_gb = {\n",
    "    'classifier__n_estimators': [50, 100, 200],\n",
    "    'classifier__learning_rate': [0.01, 0.1, 0.2],\n",
    "    'classifier__max_depth': [3, 4, 5]\n",
    "}\n",
    "param_grid_lr = {\n",
    "    'classifier__C': [0.01, 0.1, 1, 10],\n",
    "    'classifier__penalty': ['l1', 'l2'],\n",
    "    'classifier__solver': ['lbfgs', 'liblinear', 'saga'],\n",
    "    'classifier__max_iter': [500, 1000,10000]\n",
    "}\n",
    "param_grid_sgd = {\n",
    "    'classifier__alpha': [0.0001, 0.001, 0.01],\n",
    "    'classifier__penalty': ['l1', 'l2']\n",
    "}\n",
    "param_grid_svc = {\n",
    "    'classifier__C': [0.1, 1, 10],\n",
    "    'classifier__kernel': ['linear', 'rbf']\n",
    "}\n",
    "param_grid_mlp = {\n",
    "    'classifier__hidden_layer_sizes': [(50,), (100,), (50, 50)],\n",
    "    'classifier__activation': ['relu', 'tanh'],\n",
    "    'classifier__alpha': [0.0001, 0.001]\n",
    "}"
   ]
  },
  {
   "cell_type": "code",
   "execution_count": 19,
   "id": "182e2819",
   "metadata": {
    "execution": {
     "iopub.execute_input": "2023-09-01T12:34:43.703660Z",
     "iopub.status.busy": "2023-09-01T12:34:43.702976Z",
     "iopub.status.idle": "2023-09-01T12:34:43.709277Z",
     "shell.execute_reply": "2023-09-01T12:34:43.708051Z"
    },
    "papermill": {
     "duration": 0.023866,
     "end_time": "2023-09-01T12:34:43.711786",
     "exception": false,
     "start_time": "2023-09-01T12:34:43.687920",
     "status": "completed"
    },
    "tags": []
   },
   "outputs": [],
   "source": [
    "random_search = RandomizedSearchCV(\n",
    "    estimator=logreg_pipeline,\n",
    "    param_distributions=param_grid_lr,\n",
    "    n_iter=10,\n",
    "    scoring='f1',\n",
    "    cv=5,\n",
    "    verbose=2,\n",
    "    random_state=42,\n",
    "    n_jobs=-1\n",
    ")"
   ]
  },
  {
   "cell_type": "markdown",
   "id": "e038dfe7",
   "metadata": {
    "papermill": {
     "duration": 0.013105,
     "end_time": "2023-09-01T12:34:43.738708",
     "exception": false,
     "start_time": "2023-09-01T12:34:43.725603",
     "status": "completed"
    },
    "tags": []
   },
   "source": [
    "The value of paramters were found through paramter tuning. But it takes a lot of time for it to train, so the parameters were directly applied "
   ]
  },
  {
   "cell_type": "code",
   "execution_count": 20,
   "id": "99f0d9d6",
   "metadata": {
    "execution": {
     "iopub.execute_input": "2023-09-01T12:34:43.771414Z",
     "iopub.status.busy": "2023-09-01T12:34:43.771016Z",
     "iopub.status.idle": "2023-09-01T12:34:43.775802Z",
     "shell.execute_reply": "2023-09-01T12:34:43.774594Z"
    },
    "papermill": {
     "duration": 0.025496,
     "end_time": "2023-09-01T12:34:43.778805",
     "exception": false,
     "start_time": "2023-09-01T12:34:43.753309",
     "status": "completed"
    },
    "tags": []
   },
   "outputs": [],
   "source": [
    "# random_search.fit(X_train, y_train)\n",
    "# best_estimator = random_search.best_estimator_\n",
    "# random_search.best_params_"
   ]
  },
  {
   "cell_type": "code",
   "execution_count": 21,
   "id": "c3d35e54",
   "metadata": {
    "execution": {
     "iopub.execute_input": "2023-09-01T12:34:43.807052Z",
     "iopub.status.busy": "2023-09-01T12:34:43.806522Z",
     "iopub.status.idle": "2023-09-01T12:35:35.380392Z",
     "shell.execute_reply": "2023-09-01T12:35:35.378996Z"
    },
    "papermill": {
     "duration": 51.603651,
     "end_time": "2023-09-01T12:35:35.395656",
     "exception": false,
     "start_time": "2023-09-01T12:34:43.792005",
     "status": "completed"
    },
    "tags": []
   },
   "outputs": [
    {
     "data": {
      "text/html": [
       "<style>#sk-container-id-1 {color: black;background-color: white;}#sk-container-id-1 pre{padding: 0;}#sk-container-id-1 div.sk-toggleable {background-color: white;}#sk-container-id-1 label.sk-toggleable__label {cursor: pointer;display: block;width: 100%;margin-bottom: 0;padding: 0.3em;box-sizing: border-box;text-align: center;}#sk-container-id-1 label.sk-toggleable__label-arrow:before {content: \"▸\";float: left;margin-right: 0.25em;color: #696969;}#sk-container-id-1 label.sk-toggleable__label-arrow:hover:before {color: black;}#sk-container-id-1 div.sk-estimator:hover label.sk-toggleable__label-arrow:before {color: black;}#sk-container-id-1 div.sk-toggleable__content {max-height: 0;max-width: 0;overflow: hidden;text-align: left;background-color: #f0f8ff;}#sk-container-id-1 div.sk-toggleable__content pre {margin: 0.2em;color: black;border-radius: 0.25em;background-color: #f0f8ff;}#sk-container-id-1 input.sk-toggleable__control:checked~div.sk-toggleable__content {max-height: 200px;max-width: 100%;overflow: auto;}#sk-container-id-1 input.sk-toggleable__control:checked~label.sk-toggleable__label-arrow:before {content: \"▾\";}#sk-container-id-1 div.sk-estimator input.sk-toggleable__control:checked~label.sk-toggleable__label {background-color: #d4ebff;}#sk-container-id-1 div.sk-label input.sk-toggleable__control:checked~label.sk-toggleable__label {background-color: #d4ebff;}#sk-container-id-1 input.sk-hidden--visually {border: 0;clip: rect(1px 1px 1px 1px);clip: rect(1px, 1px, 1px, 1px);height: 1px;margin: -1px;overflow: hidden;padding: 0;position: absolute;width: 1px;}#sk-container-id-1 div.sk-estimator {font-family: monospace;background-color: #f0f8ff;border: 1px dotted black;border-radius: 0.25em;box-sizing: border-box;margin-bottom: 0.5em;}#sk-container-id-1 div.sk-estimator:hover {background-color: #d4ebff;}#sk-container-id-1 div.sk-parallel-item::after {content: \"\";width: 100%;border-bottom: 1px solid gray;flex-grow: 1;}#sk-container-id-1 div.sk-label:hover label.sk-toggleable__label {background-color: #d4ebff;}#sk-container-id-1 div.sk-serial::before {content: \"\";position: absolute;border-left: 1px solid gray;box-sizing: border-box;top: 0;bottom: 0;left: 50%;z-index: 0;}#sk-container-id-1 div.sk-serial {display: flex;flex-direction: column;align-items: center;background-color: white;padding-right: 0.2em;padding-left: 0.2em;position: relative;}#sk-container-id-1 div.sk-item {position: relative;z-index: 1;}#sk-container-id-1 div.sk-parallel {display: flex;align-items: stretch;justify-content: center;background-color: white;position: relative;}#sk-container-id-1 div.sk-item::before, #sk-container-id-1 div.sk-parallel-item::before {content: \"\";position: absolute;border-left: 1px solid gray;box-sizing: border-box;top: 0;bottom: 0;left: 50%;z-index: -1;}#sk-container-id-1 div.sk-parallel-item {display: flex;flex-direction: column;z-index: 1;position: relative;background-color: white;}#sk-container-id-1 div.sk-parallel-item:first-child::after {align-self: flex-end;width: 50%;}#sk-container-id-1 div.sk-parallel-item:last-child::after {align-self: flex-start;width: 50%;}#sk-container-id-1 div.sk-parallel-item:only-child::after {width: 0;}#sk-container-id-1 div.sk-dashed-wrapped {border: 1px dashed gray;margin: 0 0.4em 0.5em 0.4em;box-sizing: border-box;padding-bottom: 0.4em;background-color: white;}#sk-container-id-1 div.sk-label label {font-family: monospace;font-weight: bold;display: inline-block;line-height: 1.2em;}#sk-container-id-1 div.sk-label-container {text-align: center;}#sk-container-id-1 div.sk-container {/* jupyter's `normalize.less` sets `[hidden] { display: none; }` but bootstrap.min.css set `[hidden] { display: none !important; }` so we also need the `!important` here to be able to override the default hidden behavior on the sphinx rendered scikit-learn.org. See: https://github.com/scikit-learn/scikit-learn/issues/21755 */display: inline-block !important;position: relative;}#sk-container-id-1 div.sk-text-repr-fallback {display: none;}</style><div id=\"sk-container-id-1\" class=\"sk-top-container\"><div class=\"sk-text-repr-fallback\"><pre>Pipeline(steps=[(&#x27;preprocessor&#x27;,\n",
       "                 ColumnTransformer(transformers=[(&#x27;text&#x27;,\n",
       "                                                  TfidfVectorizer(max_features=10000,\n",
       "                                                                  stop_words=&#x27;english&#x27;),\n",
       "                                                  &#x27;reviewText&#x27;),\n",
       "                                                 (&#x27;aud_num&#x27;,\n",
       "                                                  Pipeline(steps=[(&#x27;impute&#x27;,\n",
       "                                                                   SimpleImputer()),\n",
       "                                                                  (&#x27;scale&#x27;,\n",
       "                                                                   StandardScaler())]),\n",
       "                                                  [&#x27;audienceScore&#x27;]),\n",
       "                                                 (&#x27;min_num&#x27;,\n",
       "                                                  Pipeline(steps=[(&#x27;impute&#x27;,\n",
       "                                                                   SimpleImputer()),\n",
       "                                                                  (&#x27;scale&#x27;,\n",
       "                                                                   StandardScaler())]),\n",
       "                                                  [&#x27;runtimeMinutes&#x27;]),\n",
       "                                                 (&#x27;...\n",
       "                                                                                 strategy=&#x27;constant&#x27;)),\n",
       "                                                                  (&#x27;encode&#x27;,\n",
       "                                                                   RatingContentsBinarizer())]),\n",
       "                                                  [&#x27;ratingContents&#x27;]),\n",
       "                                                 (&#x27;director&#x27;,\n",
       "                                                  Pipeline(steps=[(&#x27;impute&#x27;,\n",
       "                                                                   SimpleImputer(fill_value=&#x27;unknown&#x27;,\n",
       "                                                                                 strategy=&#x27;constant&#x27;)),\n",
       "                                                                  (&#x27;onehot&#x27;,\n",
       "                                                                   OneHotEncoder(handle_unknown=&#x27;ignore&#x27;))]),\n",
       "                                                  [&#x27;director&#x27;])])),\n",
       "                (&#x27;feature_selection&#x27;, SelectKBest(k=7500)),\n",
       "                (&#x27;classifier&#x27;,\n",
       "                 LogisticRegression(max_iter=1000, random_state=42,\n",
       "                                    solver=&#x27;saga&#x27;))])</pre><b>In a Jupyter environment, please rerun this cell to show the HTML representation or trust the notebook. <br />On GitHub, the HTML representation is unable to render, please try loading this page with nbviewer.org.</b></div><div class=\"sk-container\" hidden><div class=\"sk-item sk-dashed-wrapped\"><div class=\"sk-label-container\"><div class=\"sk-label sk-toggleable\"><input class=\"sk-toggleable__control sk-hidden--visually\" id=\"sk-estimator-id-1\" type=\"checkbox\" ><label for=\"sk-estimator-id-1\" class=\"sk-toggleable__label sk-toggleable__label-arrow\">Pipeline</label><div class=\"sk-toggleable__content\"><pre>Pipeline(steps=[(&#x27;preprocessor&#x27;,\n",
       "                 ColumnTransformer(transformers=[(&#x27;text&#x27;,\n",
       "                                                  TfidfVectorizer(max_features=10000,\n",
       "                                                                  stop_words=&#x27;english&#x27;),\n",
       "                                                  &#x27;reviewText&#x27;),\n",
       "                                                 (&#x27;aud_num&#x27;,\n",
       "                                                  Pipeline(steps=[(&#x27;impute&#x27;,\n",
       "                                                                   SimpleImputer()),\n",
       "                                                                  (&#x27;scale&#x27;,\n",
       "                                                                   StandardScaler())]),\n",
       "                                                  [&#x27;audienceScore&#x27;]),\n",
       "                                                 (&#x27;min_num&#x27;,\n",
       "                                                  Pipeline(steps=[(&#x27;impute&#x27;,\n",
       "                                                                   SimpleImputer()),\n",
       "                                                                  (&#x27;scale&#x27;,\n",
       "                                                                   StandardScaler())]),\n",
       "                                                  [&#x27;runtimeMinutes&#x27;]),\n",
       "                                                 (&#x27;...\n",
       "                                                                                 strategy=&#x27;constant&#x27;)),\n",
       "                                                                  (&#x27;encode&#x27;,\n",
       "                                                                   RatingContentsBinarizer())]),\n",
       "                                                  [&#x27;ratingContents&#x27;]),\n",
       "                                                 (&#x27;director&#x27;,\n",
       "                                                  Pipeline(steps=[(&#x27;impute&#x27;,\n",
       "                                                                   SimpleImputer(fill_value=&#x27;unknown&#x27;,\n",
       "                                                                                 strategy=&#x27;constant&#x27;)),\n",
       "                                                                  (&#x27;onehot&#x27;,\n",
       "                                                                   OneHotEncoder(handle_unknown=&#x27;ignore&#x27;))]),\n",
       "                                                  [&#x27;director&#x27;])])),\n",
       "                (&#x27;feature_selection&#x27;, SelectKBest(k=7500)),\n",
       "                (&#x27;classifier&#x27;,\n",
       "                 LogisticRegression(max_iter=1000, random_state=42,\n",
       "                                    solver=&#x27;saga&#x27;))])</pre></div></div></div><div class=\"sk-serial\"><div class=\"sk-item sk-dashed-wrapped\"><div class=\"sk-label-container\"><div class=\"sk-label sk-toggleable\"><input class=\"sk-toggleable__control sk-hidden--visually\" id=\"sk-estimator-id-2\" type=\"checkbox\" ><label for=\"sk-estimator-id-2\" class=\"sk-toggleable__label sk-toggleable__label-arrow\">preprocessor: ColumnTransformer</label><div class=\"sk-toggleable__content\"><pre>ColumnTransformer(transformers=[(&#x27;text&#x27;,\n",
       "                                 TfidfVectorizer(max_features=10000,\n",
       "                                                 stop_words=&#x27;english&#x27;),\n",
       "                                 &#x27;reviewText&#x27;),\n",
       "                                (&#x27;aud_num&#x27;,\n",
       "                                 Pipeline(steps=[(&#x27;impute&#x27;, SimpleImputer()),\n",
       "                                                 (&#x27;scale&#x27;, StandardScaler())]),\n",
       "                                 [&#x27;audienceScore&#x27;]),\n",
       "                                (&#x27;min_num&#x27;,\n",
       "                                 Pipeline(steps=[(&#x27;impute&#x27;, SimpleImputer()),\n",
       "                                                 (&#x27;scale&#x27;, StandardScaler())]),\n",
       "                                 [&#x27;runtimeMinutes&#x27;]),\n",
       "                                (&#x27;genre&#x27;,\n",
       "                                 Pipeline(steps=[(&#x27;impute&#x27;...\n",
       "                                                  MultiLabelBinarizerWrapper())]),\n",
       "                                 [&#x27;genre&#x27;]),\n",
       "                                (&#x27;ratingContents&#x27;,\n",
       "                                 Pipeline(steps=[(&#x27;impute&#x27;,\n",
       "                                                  SimpleImputer(fill_value=&#x27;unknown&#x27;,\n",
       "                                                                strategy=&#x27;constant&#x27;)),\n",
       "                                                 (&#x27;encode&#x27;,\n",
       "                                                  RatingContentsBinarizer())]),\n",
       "                                 [&#x27;ratingContents&#x27;]),\n",
       "                                (&#x27;director&#x27;,\n",
       "                                 Pipeline(steps=[(&#x27;impute&#x27;,\n",
       "                                                  SimpleImputer(fill_value=&#x27;unknown&#x27;,\n",
       "                                                                strategy=&#x27;constant&#x27;)),\n",
       "                                                 (&#x27;onehot&#x27;,\n",
       "                                                  OneHotEncoder(handle_unknown=&#x27;ignore&#x27;))]),\n",
       "                                 [&#x27;director&#x27;])])</pre></div></div></div><div class=\"sk-parallel\"><div class=\"sk-parallel-item\"><div class=\"sk-item\"><div class=\"sk-label-container\"><div class=\"sk-label sk-toggleable\"><input class=\"sk-toggleable__control sk-hidden--visually\" id=\"sk-estimator-id-3\" type=\"checkbox\" ><label for=\"sk-estimator-id-3\" class=\"sk-toggleable__label sk-toggleable__label-arrow\">text</label><div class=\"sk-toggleable__content\"><pre>reviewText</pre></div></div></div><div class=\"sk-serial\"><div class=\"sk-item\"><div class=\"sk-estimator sk-toggleable\"><input class=\"sk-toggleable__control sk-hidden--visually\" id=\"sk-estimator-id-4\" type=\"checkbox\" ><label for=\"sk-estimator-id-4\" class=\"sk-toggleable__label sk-toggleable__label-arrow\">TfidfVectorizer</label><div class=\"sk-toggleable__content\"><pre>TfidfVectorizer(max_features=10000, stop_words=&#x27;english&#x27;)</pre></div></div></div></div></div></div><div class=\"sk-parallel-item\"><div class=\"sk-item\"><div class=\"sk-label-container\"><div class=\"sk-label sk-toggleable\"><input class=\"sk-toggleable__control sk-hidden--visually\" id=\"sk-estimator-id-5\" type=\"checkbox\" ><label for=\"sk-estimator-id-5\" class=\"sk-toggleable__label sk-toggleable__label-arrow\">aud_num</label><div class=\"sk-toggleable__content\"><pre>[&#x27;audienceScore&#x27;]</pre></div></div></div><div class=\"sk-serial\"><div class=\"sk-item\"><div class=\"sk-serial\"><div class=\"sk-item\"><div class=\"sk-estimator sk-toggleable\"><input class=\"sk-toggleable__control sk-hidden--visually\" id=\"sk-estimator-id-6\" type=\"checkbox\" ><label for=\"sk-estimator-id-6\" class=\"sk-toggleable__label sk-toggleable__label-arrow\">SimpleImputer</label><div class=\"sk-toggleable__content\"><pre>SimpleImputer()</pre></div></div></div><div class=\"sk-item\"><div class=\"sk-estimator sk-toggleable\"><input class=\"sk-toggleable__control sk-hidden--visually\" id=\"sk-estimator-id-7\" type=\"checkbox\" ><label for=\"sk-estimator-id-7\" class=\"sk-toggleable__label sk-toggleable__label-arrow\">StandardScaler</label><div class=\"sk-toggleable__content\"><pre>StandardScaler()</pre></div></div></div></div></div></div></div></div><div class=\"sk-parallel-item\"><div class=\"sk-item\"><div class=\"sk-label-container\"><div class=\"sk-label sk-toggleable\"><input class=\"sk-toggleable__control sk-hidden--visually\" id=\"sk-estimator-id-8\" type=\"checkbox\" ><label for=\"sk-estimator-id-8\" class=\"sk-toggleable__label sk-toggleable__label-arrow\">min_num</label><div class=\"sk-toggleable__content\"><pre>[&#x27;runtimeMinutes&#x27;]</pre></div></div></div><div class=\"sk-serial\"><div class=\"sk-item\"><div class=\"sk-serial\"><div class=\"sk-item\"><div class=\"sk-estimator sk-toggleable\"><input class=\"sk-toggleable__control sk-hidden--visually\" id=\"sk-estimator-id-9\" type=\"checkbox\" ><label for=\"sk-estimator-id-9\" class=\"sk-toggleable__label sk-toggleable__label-arrow\">SimpleImputer</label><div class=\"sk-toggleable__content\"><pre>SimpleImputer()</pre></div></div></div><div class=\"sk-item\"><div class=\"sk-estimator sk-toggleable\"><input class=\"sk-toggleable__control sk-hidden--visually\" id=\"sk-estimator-id-10\" type=\"checkbox\" ><label for=\"sk-estimator-id-10\" class=\"sk-toggleable__label sk-toggleable__label-arrow\">StandardScaler</label><div class=\"sk-toggleable__content\"><pre>StandardScaler()</pre></div></div></div></div></div></div></div></div><div class=\"sk-parallel-item\"><div class=\"sk-item\"><div class=\"sk-label-container\"><div class=\"sk-label sk-toggleable\"><input class=\"sk-toggleable__control sk-hidden--visually\" id=\"sk-estimator-id-11\" type=\"checkbox\" ><label for=\"sk-estimator-id-11\" class=\"sk-toggleable__label sk-toggleable__label-arrow\">genre</label><div class=\"sk-toggleable__content\"><pre>[&#x27;genre&#x27;]</pre></div></div></div><div class=\"sk-serial\"><div class=\"sk-item\"><div class=\"sk-serial\"><div class=\"sk-item\"><div class=\"sk-estimator sk-toggleable\"><input class=\"sk-toggleable__control sk-hidden--visually\" id=\"sk-estimator-id-12\" type=\"checkbox\" ><label for=\"sk-estimator-id-12\" class=\"sk-toggleable__label sk-toggleable__label-arrow\">SimpleImputer</label><div class=\"sk-toggleable__content\"><pre>SimpleImputer(fill_value=&#x27;unknown&#x27;, strategy=&#x27;constant&#x27;)</pre></div></div></div><div class=\"sk-item\"><div class=\"sk-estimator sk-toggleable\"><input class=\"sk-toggleable__control sk-hidden--visually\" id=\"sk-estimator-id-13\" type=\"checkbox\" ><label for=\"sk-estimator-id-13\" class=\"sk-toggleable__label sk-toggleable__label-arrow\">FunctionTransformer</label><div class=\"sk-toggleable__content\"><pre>FunctionTransformer(func=&lt;function &lt;lambda&gt; at 0x7e52042688b0&gt;)</pre></div></div></div><div class=\"sk-item\"><div class=\"sk-estimator sk-toggleable\"><input class=\"sk-toggleable__control sk-hidden--visually\" id=\"sk-estimator-id-14\" type=\"checkbox\" ><label for=\"sk-estimator-id-14\" class=\"sk-toggleable__label sk-toggleable__label-arrow\">MultiLabelBinarizerWrapper</label><div class=\"sk-toggleable__content\"><pre>MultiLabelBinarizerWrapper()</pre></div></div></div></div></div></div></div></div><div class=\"sk-parallel-item\"><div class=\"sk-item\"><div class=\"sk-label-container\"><div class=\"sk-label sk-toggleable\"><input class=\"sk-toggleable__control sk-hidden--visually\" id=\"sk-estimator-id-15\" type=\"checkbox\" ><label for=\"sk-estimator-id-15\" class=\"sk-toggleable__label sk-toggleable__label-arrow\">ratingContents</label><div class=\"sk-toggleable__content\"><pre>[&#x27;ratingContents&#x27;]</pre></div></div></div><div class=\"sk-serial\"><div class=\"sk-item\"><div class=\"sk-serial\"><div class=\"sk-item\"><div class=\"sk-estimator sk-toggleable\"><input class=\"sk-toggleable__control sk-hidden--visually\" id=\"sk-estimator-id-16\" type=\"checkbox\" ><label for=\"sk-estimator-id-16\" class=\"sk-toggleable__label sk-toggleable__label-arrow\">SimpleImputer</label><div class=\"sk-toggleable__content\"><pre>SimpleImputer(fill_value=&#x27;unknown&#x27;, strategy=&#x27;constant&#x27;)</pre></div></div></div><div class=\"sk-item\"><div class=\"sk-estimator sk-toggleable\"><input class=\"sk-toggleable__control sk-hidden--visually\" id=\"sk-estimator-id-17\" type=\"checkbox\" ><label for=\"sk-estimator-id-17\" class=\"sk-toggleable__label sk-toggleable__label-arrow\">RatingContentsBinarizer</label><div class=\"sk-toggleable__content\"><pre>RatingContentsBinarizer()</pre></div></div></div></div></div></div></div></div><div class=\"sk-parallel-item\"><div class=\"sk-item\"><div class=\"sk-label-container\"><div class=\"sk-label sk-toggleable\"><input class=\"sk-toggleable__control sk-hidden--visually\" id=\"sk-estimator-id-18\" type=\"checkbox\" ><label for=\"sk-estimator-id-18\" class=\"sk-toggleable__label sk-toggleable__label-arrow\">director</label><div class=\"sk-toggleable__content\"><pre>[&#x27;director&#x27;]</pre></div></div></div><div class=\"sk-serial\"><div class=\"sk-item\"><div class=\"sk-serial\"><div class=\"sk-item\"><div class=\"sk-estimator sk-toggleable\"><input class=\"sk-toggleable__control sk-hidden--visually\" id=\"sk-estimator-id-19\" type=\"checkbox\" ><label for=\"sk-estimator-id-19\" class=\"sk-toggleable__label sk-toggleable__label-arrow\">SimpleImputer</label><div class=\"sk-toggleable__content\"><pre>SimpleImputer(fill_value=&#x27;unknown&#x27;, strategy=&#x27;constant&#x27;)</pre></div></div></div><div class=\"sk-item\"><div class=\"sk-estimator sk-toggleable\"><input class=\"sk-toggleable__control sk-hidden--visually\" id=\"sk-estimator-id-20\" type=\"checkbox\" ><label for=\"sk-estimator-id-20\" class=\"sk-toggleable__label sk-toggleable__label-arrow\">OneHotEncoder</label><div class=\"sk-toggleable__content\"><pre>OneHotEncoder(handle_unknown=&#x27;ignore&#x27;)</pre></div></div></div></div></div></div></div></div></div></div><div class=\"sk-item\"><div class=\"sk-estimator sk-toggleable\"><input class=\"sk-toggleable__control sk-hidden--visually\" id=\"sk-estimator-id-21\" type=\"checkbox\" ><label for=\"sk-estimator-id-21\" class=\"sk-toggleable__label sk-toggleable__label-arrow\">SelectKBest</label><div class=\"sk-toggleable__content\"><pre>SelectKBest(k=7500)</pre></div></div></div><div class=\"sk-item\"><div class=\"sk-estimator sk-toggleable\"><input class=\"sk-toggleable__control sk-hidden--visually\" id=\"sk-estimator-id-22\" type=\"checkbox\" ><label for=\"sk-estimator-id-22\" class=\"sk-toggleable__label sk-toggleable__label-arrow\">LogisticRegression</label><div class=\"sk-toggleable__content\"><pre>LogisticRegression(max_iter=1000, random_state=42, solver=&#x27;saga&#x27;)</pre></div></div></div></div></div></div></div>"
      ],
      "text/plain": [
       "Pipeline(steps=[('preprocessor',\n",
       "                 ColumnTransformer(transformers=[('text',\n",
       "                                                  TfidfVectorizer(max_features=10000,\n",
       "                                                                  stop_words='english'),\n",
       "                                                  'reviewText'),\n",
       "                                                 ('aud_num',\n",
       "                                                  Pipeline(steps=[('impute',\n",
       "                                                                   SimpleImputer()),\n",
       "                                                                  ('scale',\n",
       "                                                                   StandardScaler())]),\n",
       "                                                  ['audienceScore']),\n",
       "                                                 ('min_num',\n",
       "                                                  Pipeline(steps=[('impute',\n",
       "                                                                   SimpleImputer()),\n",
       "                                                                  ('scale',\n",
       "                                                                   StandardScaler())]),\n",
       "                                                  ['runtimeMinutes']),\n",
       "                                                 ('...\n",
       "                                                                                 strategy='constant')),\n",
       "                                                                  ('encode',\n",
       "                                                                   RatingContentsBinarizer())]),\n",
       "                                                  ['ratingContents']),\n",
       "                                                 ('director',\n",
       "                                                  Pipeline(steps=[('impute',\n",
       "                                                                   SimpleImputer(fill_value='unknown',\n",
       "                                                                                 strategy='constant')),\n",
       "                                                                  ('onehot',\n",
       "                                                                   OneHotEncoder(handle_unknown='ignore'))]),\n",
       "                                                  ['director'])])),\n",
       "                ('feature_selection', SelectKBest(k=7500)),\n",
       "                ('classifier',\n",
       "                 LogisticRegression(max_iter=1000, random_state=42,\n",
       "                                    solver='saga'))])"
      ]
     },
     "execution_count": 21,
     "metadata": {},
     "output_type": "execute_result"
    }
   ],
   "source": [
    "logreg_pipeline.fit(X_train,y_train)"
   ]
  },
  {
   "cell_type": "code",
   "execution_count": 22,
   "id": "2bb3c143",
   "metadata": {
    "execution": {
     "iopub.execute_input": "2023-09-01T12:35:35.424134Z",
     "iopub.status.busy": "2023-09-01T12:35:35.423733Z",
     "iopub.status.idle": "2023-09-01T12:35:37.904752Z",
     "shell.execute_reply": "2023-09-01T12:35:37.903136Z"
    },
    "papermill": {
     "duration": 2.498242,
     "end_time": "2023-09-01T12:35:37.907473",
     "exception": false,
     "start_time": "2023-09-01T12:35:35.409231",
     "status": "completed"
    },
    "tags": []
   },
   "outputs": [
    {
     "data": {
      "image/png": "[encoded data removed]",
      "text/plain": [
       "<Figure size 1200x500 with 2 Axes>"
      ]
     },
     "metadata": {},
     "output_type": "display_data"
    }
   ],
   "source": [
    "num_plot()"
   ]
  },
  {
   "cell_type": "code",
   "execution_count": 23,
   "id": "e5f38479",
   "metadata": {
    "execution": {
     "iopub.execute_input": "2023-09-01T12:35:37.938127Z",
     "iopub.status.busy": "2023-09-01T12:35:37.937769Z",
     "iopub.status.idle": "2023-09-01T12:35:40.300879Z",
     "shell.execute_reply": "2023-09-01T12:35:40.298859Z"
    },
    "papermill": {
     "duration": 2.381836,
     "end_time": "2023-09-01T12:35:40.304159",
     "exception": false,
     "start_time": "2023-09-01T12:35:37.922323",
     "status": "completed"
    },
    "tags": []
   },
   "outputs": [
    {
     "name": "stderr",
     "output_type": "stream",
     "text": [
      "/opt/conda/lib/python3.10/site-packages/sklearn/preprocessing/_label.py:895: UserWarning: unknown class(es) [\"['A Brief Drug Reference', 'Some Rude Humor']\", \"['A Brief Violent Image', 'Some Thematic Elements']\", \"['A Crude Reference', 'Some Sexual Material', 'Brief Strong Language']\", \"['A Sequence of Nudity', 'Some Disturbing Images']\", \"['Bloody Violence', 'Sexual Content', 'Nudity']\", \"['Brief Language', 'Some Mild Thematic Elements']\", \"['Brief Language', 'Violent Images']\", \"['Brief Nudity', 'Sexual References', 'Pervasive Language']\", \"['Brief Sexual Material', 'Some Language']\", \"['Brief Violence/Bloody Images']\", \"['Comic Violent Images', 'Drug Content']\", \"['Dialogue', 'Strong Sexual Content', 'Nudity']\", \"['Drug Content', 'Language']\", \"['Drug Use', 'Disturbing Images', 'Language', 'Some Nudity', 'Violence']\", \"['Gore', 'Drug Use', 'Bloody Horror Violence', 'Language', 'Some Sexual Content/Nudity']\", \"['Language Throughout', 'Drug Use', 'A Brief Nude Image', 'Violence']\", \"['Language Throughout', 'Graphic Nudity', 'Drug Use', 'Sexual Content']\", \"['Language', 'Aberrant Violent Content', 'Aberrant Sexual Content', 'Nudity']\", \"['Language', 'Bloody Violence', 'Sexual References', 'Some Nudity']\", \"['Language', 'Brief Sexual Content', 'Bloody Horror Violence', 'Terror']\", \"['Language', 'Gore', 'Some Sexual Content', 'Strong Horror Violence']\", \"['Language', 'Horror Violence and Gore', 'Sexual References', 'Some Drug Use']\", \"['Language', 'Horror Violence', 'Brief Drug Use', 'Some Sexual Content']\", \"['Language', 'Sexual Content/Dialogue', 'Nudity']\", \"['Language', 'Some Disturbing Images']\", \"['Mild Sexual Content', 'Some Language']\", \"['Mild Thematic Material', 'Brief Language']\", \"['Nudity', 'Language Throughout', 'Sexual Content', 'Some Drug Use', 'Strong Violence']\", \"['Pervasive Language', 'Drug Use', 'Sexual Content', 'Strong Bloody Horror Violence']\", \"['Pervasive Nudity', 'Language', 'Brief Violence', 'Pervasive Sexual Content', 'Some Drug Content']\", \"['Scene of Sensuality', 'Violence']\", \"['Sexual Content', 'Language Throughout', 'Brief Graphic Nudity', 'Teen Drinking and Drug Use']\", \"['Sexual Content', 'Pervasive Language', 'Drug and Alcohol Use', 'Some Violence']\", \"['Sexual Material', 'Some Language', 'Smoking']\", \"['Sexual References', 'Disturbing Gory Violence', 'Brief Nudity', 'Strong Language']\", \"['Sexuality', 'Nudity', 'Drug Content', 'Some Language', 'Strong Gory Violence']\", \"['Some Drug Use and Nudity']\", \"['Some Horror Violence/Images']\", \"['Some Sexual References', 'Language Throughout', 'Strong Violence']\", \"['Some Strong Language', 'Mature Thematic Content', 'Disturbing Images', 'Violence/Terror']\", \"['Some Thematic Elements', 'Mild Language']\", \"['Strong Bloody Horror Violence', 'Some Language']\", \"['Strong Sexuality', 'Drug Use', 'Rape', 'Language', 'Violence']\", \"['Strong Violence', 'Language', 'Some Drug Use', 'Sexuality/Nudity']\", \"['Suggestive Content', 'Mature Content']\", \"['Teen Drinking and Smoking', 'Some Suggestive Situations', 'Disturbing Violent Content', 'Thematic Material']\", \"['Thematic Elements', 'Some Racial Tension/Violence']\", \"['Thematic Material', 'Hardships', 'Peril', 'Language']\", \"['Thematic Material', 'Some Violent Content', 'Brief Language']\", \"['Violence', 'Language', 'Some Sexuality', 'Nudity']\", \"['Violent Imagery', 'Some Sexuality']\", \"['Violent and Disturbing Images']\"] will be ignored\n",
      "  warnings.warn(\n"
     ]
    },
    {
     "name": "stdout",
     "output_type": "stream",
     "text": [
      "Accuracy: 86.57%\n"
     ]
    }
   ],
   "source": [
    "y_pred = logreg_pipeline.predict(X_val)\n",
    "accuracy = f1_score(y_val, y_pred)\n",
    "print(f\"Accuracy: {accuracy * 100:.2f}%\")"
   ]
  },
  {
   "cell_type": "code",
   "execution_count": 24,
   "id": "7dc4c883",
   "metadata": {
    "execution": {
     "iopub.execute_input": "2023-09-01T12:35:40.337063Z",
     "iopub.status.busy": "2023-09-01T12:35:40.336676Z",
     "iopub.status.idle": "2023-09-01T12:35:40.581248Z",
     "shell.execute_reply": "2023-09-01T12:35:40.579818Z"
    },
    "papermill": {
     "duration": 0.264254,
     "end_time": "2023-09-01T12:35:40.583696",
     "exception": false,
     "start_time": "2023-09-01T12:35:40.319442",
     "status": "completed"
    },
    "tags": []
   },
   "outputs": [
    {
     "name": "stdout",
     "output_type": "stream",
     "text": [
      "[[ 6696  4000]\n",
      " [ 2124 19732]]\n"
     ]
    },
    {
     "data": {
      "image/png": "[encoded data removed]",
      "text/plain": [
       "<Figure size 800x600 with 2 Axes>"
      ]
     },
     "metadata": {},
     "output_type": "display_data"
    }
   ],
   "source": [
    "cm = confusion_matrix(y_val, y_pred)\n",
    "print(cm)\n",
    "plt.figure(figsize=(8, 6))\n",
    "sns.heatmap(cm, annot=True, fmt='d', cmap='Blues', \n",
    "            xticklabels=['Predicted Negative', 'Predicted Positive'],\n",
    "            yticklabels=['True Negative', 'True Positive'])\n",
    "plt.xlabel('Predicted labels')\n",
    "plt.ylabel('True labels')\n",
    "plt.title('Confusion Matrix')\n",
    "plt.show()"
   ]
  },
  {
   "cell_type": "code",
   "execution_count": 25,
   "id": "f4bae15d",
   "metadata": {
    "execution": {
     "iopub.execute_input": "2023-09-01T12:35:40.617795Z",
     "iopub.status.busy": "2023-09-01T12:35:40.617403Z",
     "iopub.status.idle": "2023-09-01T12:35:44.624524Z",
     "shell.execute_reply": "2023-09-01T12:35:44.623643Z"
    },
    "papermill": {
     "duration": 4.0275,
     "end_time": "2023-09-01T12:35:44.627240",
     "exception": false,
     "start_time": "2023-09-01T12:35:40.599740",
     "status": "completed"
    },
    "tags": []
   },
   "outputs": [
    {
     "name": "stderr",
     "output_type": "stream",
     "text": [
      "/opt/conda/lib/python3.10/site-packages/sklearn/preprocessing/_label.py:895: UserWarning: unknown class(es) [\"['A Brief Drug Reference', 'Some Rude Humor']\", \"['A Brief Violent Image', 'Some Thematic Elements']\", \"['A Crude Reference', 'Some Sexual Material', 'Brief Strong Language']\", \"['A Sequence of Nudity', 'Some Disturbing Images']\", \"['Bloody Violence', 'Sexual Content', 'Nudity']\", \"['Bloody Violence', 'Terror', 'Disturbing Images']\", \"['Brief Language', 'Some Mild Thematic Elements']\", \"['Brief Language', 'Violent Images']\", \"['Brief Nudity', 'Sexual References', 'Pervasive Language']\", \"['Brief Sexual Material', 'Some Language']\", \"['Brief Violence/Bloody Images']\", \"['Comic Violent Images', 'Drug Content']\", \"['Dialogue', 'Strong Sexual Content', 'Nudity']\", \"['Drug Content', 'Language']\", \"['Drug Use', 'Disturbing Images', 'Language', 'Some Nudity', 'Violence']\", \"['Gore', 'Drug Use', 'Bloody Horror Violence', 'Language', 'Some Sexual Content/Nudity']\", \"['Language Throughout', 'Drug Use', 'A Brief Nude Image', 'Violence']\", \"['Language Throughout', 'Graphic Nudity', 'Drug Use', 'Sexual Content']\", \"['Language', 'Aberrant Violent Content', 'Aberrant Sexual Content', 'Nudity']\", \"['Language', 'Bloody Violence', 'Sexual References', 'Some Nudity']\", \"['Language', 'Brief Sexual Content', 'Bloody Horror Violence', 'Terror']\", \"['Language', 'Gore', 'Some Sexual Content', 'Strong Horror Violence']\", \"['Language', 'Horror Violence and Gore', 'Sexual References', 'Some Drug Use']\", \"['Language', 'Horror Violence', 'Brief Drug Use', 'Some Sexual Content']\", \"['Language', 'Sexual Content/Dialogue', 'Nudity']\", \"['Language', 'Some Disturbing Images']\", \"['Mild Sexual Content', 'Some Language']\", \"['Mild Thematic Material', 'Brief Language']\", \"['Nudity', 'Language Throughout', 'Sexual Content', 'Some Drug Use', 'Strong Violence']\", \"['Pervasive Language', 'Drug Use', 'Sexual Content', 'Strong Bloody Horror Violence']\", \"['Pervasive Language', 'Strong Brutal Violence', 'Some Torture']\", \"['Pervasive Nudity', 'Language', 'Brief Violence', 'Pervasive Sexual Content', 'Some Drug Content']\", \"['Pervasive Smoking', 'Thematic Material']\", \"['Scene of Sensuality', 'Violence']\", \"['Sexual Content', 'Language Throughout', 'Brief Graphic Nudity', 'Teen Drinking and Drug Use']\", \"['Sexual Content', 'Pervasive Language', 'Drug and Alcohol Use', 'Some Violence']\", \"['Sexual Material', 'Some Language', 'Smoking']\", \"['Sexual References', 'Disturbing Gory Violence', 'Brief Nudity', 'Strong Language']\", \"['Sexuality', 'Nudity', 'Drug Content', 'Some Language', 'Strong Gory Violence']\", \"['Some Drug Use and Nudity']\", \"['Some Drug Use', 'Pervasive Language', 'Brief Graphic Nudity', 'Strong Sexual Content', 'Violence']\", \"['Some Horror Violence/Images']\", \"['Some Sexual References', 'Language Throughout', 'Strong Violence']\", \"['Some Strong Language', 'Mature Thematic Content', 'Disturbing Images', 'Violence/Terror']\", \"['Some Teen Marijuana Use']\", \"['Some Thematic Elements', 'Mild Language']\", \"['Strong Bloody Horror Violence', 'Some Language']\", \"['Strong Sexuality', 'Drug Use', 'Rape', 'Language', 'Violence']\", \"['Strong Violence', 'Language', 'Some Drug Use', 'Sexuality/Nudity']\", \"['Suggestive Content', 'Mature Content']\", \"['Teen Drinking and Smoking', 'Some Suggestive Situations', 'Disturbing Violent Content', 'Thematic Material']\", \"['Thematic Elements', 'Some Racial Tension/Violence']\", \"['Thematic Material', 'Hardships', 'Peril', 'Language']\", \"['Thematic Material', 'Some Violent Content', 'Brief Language']\", \"['Violence', 'Language', 'Some Sexuality', 'Nudity']\", \"['Violent Imagery', 'Some Sexuality']\", \"['Violent and Disturbing Images']\"] will be ignored\n",
      "  warnings.warn(\n"
     ]
    }
   ],
   "source": [
    "predictions = logreg_pipeline.predict(X_test)\n",
    "ids = range(len(predictions))\n",
    "predictions=['POSITIVE' if x==1 else 'NEGATIVE' for x in predictions]\n",
    "final_prediction = pd.DataFrame({\"id\": ids, \"sentiment\": predictions})\n",
    "final_prediction.to_csv(\"submission.csv\", index = False)"
   ]
  },
  {
   "cell_type": "markdown",
   "id": "968aa3ce",
   "metadata": {
    "papermill": {
     "duration": 0.014899,
     "end_time": "2023-09-01T12:35:44.657514",
     "exception": false,
     "start_time": "2023-09-01T12:35:44.642615",
     "status": "completed"
    },
    "tags": []
   },
   "source": [
    "# some insights\n",
    "\n",
    "Various machine learning models were trained using different combinations of features. Given the time constraints, the chosen feature set yielded the best performance. A summary of the models and their results is provided below:\n",
    "\n",
    "**Baseline Model**: The logistic regression model was selected as the baseline due to its consistent performance and robustness to feature tuning. It outperformed other classifiers in terms of accuracy and interpretability.\n",
    "\n",
    "**SGD Classifier**: The next best classifier was the Stochastic Gradient Descent (SGD) classifier with the loss function set to 'hinge,' effectively behaving as a Support Vector Machine (SVM). It provided competitive results with relatively low computational cost.\n",
    "\n",
    "**SVC**: The Support Vector Classifier (SVC) was considered, but due to its high computational time, it was not feasible to implement within the given time constraints. An attempt was made to train an SVC model without a pipeline, but the training process took more than 12 hours and was abruptly terminated.\n",
    "\n",
    "**Decision Trees**: Decision tree models were explored but yielded poorer results compared to the logistic regression and SGD classifiers.\n",
    "\n",
    "**Bagging and Boosting**: Ensemble methods such as bagging and boosting were evaluated but did not outperform the logistic regression and SGD classifiers.\n",
    "\n",
    "**Feature Selection**: Certain features, such as 'movieid' and 'reviewername,' were excluded from the model due to their presence of numerous unseen unique values in the test dataset, which posed challenges for generalization.\n",
    "\n",
    "In conclusion, the logistic regression model with the selected feature set emerged as the best-performing model for this analysis. Future work may explore more advanced classifiers or feature engineering techniques to further improve model performance.\n"
   ]
  },
  {
   "cell_type": "code",
   "execution_count": 26,
   "id": "2254464f",
   "metadata": {
    "execution": {
     "iopub.execute_input": "2023-09-01T12:35:44.691119Z",
     "iopub.status.busy": "2023-09-01T12:35:44.690690Z",
     "iopub.status.idle": "2023-09-01T12:35:44.702978Z",
     "shell.execute_reply": "2023-09-01T12:35:44.701725Z"
    },
    "papermill": {
     "duration": 0.032821,
     "end_time": "2023-09-01T12:35:44.705512",
     "exception": false,
     "start_time": "2023-09-01T12:35:44.672691",
     "status": "completed"
    },
    "tags": []
   },
   "outputs": [
    {
     "data": {
      "text/html": [
       "<div>\n",
       "<style scoped>\n",
       "    .dataframe tbody tr th:only-of-type {\n",
       "        vertical-align: middle;\n",
       "    }\n",
       "\n",
       "    .dataframe tbody tr th {\n",
       "        vertical-align: top;\n",
       "    }\n",
       "\n",
       "    .dataframe thead th {\n",
       "        text-align: right;\n",
       "    }\n",
       "</style>\n",
       "<table border=\"1\" class=\"dataframe\">\n",
       "  <thead>\n",
       "    <tr style=\"text-align: right;\">\n",
       "      <th></th>\n",
       "      <th>id</th>\n",
       "      <th>sentiment</th>\n",
       "    </tr>\n",
       "  </thead>\n",
       "  <tbody>\n",
       "    <tr>\n",
       "      <th>0</th>\n",
       "      <td>0</td>\n",
       "      <td>POSITIVE</td>\n",
       "    </tr>\n",
       "    <tr>\n",
       "      <th>1</th>\n",
       "      <td>1</td>\n",
       "      <td>POSITIVE</td>\n",
       "    </tr>\n",
       "    <tr>\n",
       "      <th>2</th>\n",
       "      <td>2</td>\n",
       "      <td>POSITIVE</td>\n",
       "    </tr>\n",
       "    <tr>\n",
       "      <th>3</th>\n",
       "      <td>3</td>\n",
       "      <td>POSITIVE</td>\n",
       "    </tr>\n",
       "    <tr>\n",
       "      <th>4</th>\n",
       "      <td>4</td>\n",
       "      <td>POSITIVE</td>\n",
       "    </tr>\n",
       "    <tr>\n",
       "      <th>...</th>\n",
       "      <td>...</td>\n",
       "      <td>...</td>\n",
       "    </tr>\n",
       "    <tr>\n",
       "      <th>55310</th>\n",
       "      <td>55310</td>\n",
       "      <td>POSITIVE</td>\n",
       "    </tr>\n",
       "    <tr>\n",
       "      <th>55311</th>\n",
       "      <td>55311</td>\n",
       "      <td>NEGATIVE</td>\n",
       "    </tr>\n",
       "    <tr>\n",
       "      <th>55312</th>\n",
       "      <td>55312</td>\n",
       "      <td>NEGATIVE</td>\n",
       "    </tr>\n",
       "    <tr>\n",
       "      <th>55313</th>\n",
       "      <td>55313</td>\n",
       "      <td>POSITIVE</td>\n",
       "    </tr>\n",
       "    <tr>\n",
       "      <th>55314</th>\n",
       "      <td>55314</td>\n",
       "      <td>NEGATIVE</td>\n",
       "    </tr>\n",
       "  </tbody>\n",
       "</table>\n",
       "<p>55315 rows × 2 columns</p>\n",
       "</div>"
      ],
      "text/plain": [
       "          id sentiment\n",
       "0          0  POSITIVE\n",
       "1          1  POSITIVE\n",
       "2          2  POSITIVE\n",
       "3          3  POSITIVE\n",
       "4          4  POSITIVE\n",
       "...      ...       ...\n",
       "55310  55310  POSITIVE\n",
       "55311  55311  NEGATIVE\n",
       "55312  55312  NEGATIVE\n",
       "55313  55313  POSITIVE\n",
       "55314  55314  NEGATIVE\n",
       "\n",
       "[55315 rows x 2 columns]"
      ]
     },
     "execution_count": 26,
     "metadata": {},
     "output_type": "execute_result"
    }
   ],
   "source": [
    "final_prediction\n"
   ]
  },
  {
   "cell_type": "code",
   "execution_count": 27,
   "id": "eb4697fc",
   "metadata": {
    "execution": {
     "iopub.execute_input": "2023-09-01T12:35:44.739261Z",
     "iopub.status.busy": "2023-09-01T12:35:44.738874Z",
     "iopub.status.idle": "2023-09-01T12:35:44.751720Z",
     "shell.execute_reply": "2023-09-01T12:35:44.749731Z"
    },
    "papermill": {
     "duration": 0.032947,
     "end_time": "2023-09-01T12:35:44.754240",
     "exception": false,
     "start_time": "2023-09-01T12:35:44.721293",
     "status": "completed"
    },
    "tags": []
   },
   "outputs": [
    {
     "name": "stdout",
     "output_type": "stream",
     "text": [
      "No. of negative labels:  43301\n",
      "No. of positive labels:  86905\n"
     ]
    }
   ],
   "source": [
    "print(\"No. of negative labels: \",y_train[y_train==0].count())\n",
    "print(\"No. of positive labels: \",y_train[y_train==1].count())"
   ]
  },
  {
   "cell_type": "markdown",
   "id": "d9275997",
   "metadata": {
    "papermill": {
     "duration": 0.016314,
     "end_time": "2023-09-01T12:35:44.786522",
     "exception": false,
     "start_time": "2023-09-01T12:35:44.770208",
     "status": "completed"
    },
    "tags": []
   },
   "source": [
    "# Things I could have done\n",
    "* **Use Balancing Techniques** - As we can see from the cell above , that the number of positive labels are almost twice the negative labels. Hence, the data is very imbalanced and we could have used balancing techniques for potentially better results \n",
    "* **Use of LinearSVC** - From my mentioned insight, we know that LogisticRegression(tuned and untuned) has been performing better than the SVC for our set of features. It could have been worthwhile to try LinearSVC"
   ]
  },
  {
   "cell_type": "code",
   "execution_count": 28,
   "id": "462fffa7",
   "metadata": {
    "execution": {
     "iopub.execute_input": "2023-09-01T12:35:44.820204Z",
     "iopub.status.busy": "2023-09-01T12:35:44.819827Z",
     "iopub.status.idle": "2023-09-01T12:39:52.471961Z",
     "shell.execute_reply": "2023-09-01T12:39:52.470560Z"
    },
    "papermill": {
     "duration": 247.671578,
     "end_time": "2023-09-01T12:39:52.474390",
     "exception": false,
     "start_time": "2023-09-01T12:35:44.802812",
     "status": "completed"
    },
    "tags": []
   },
   "outputs": [
    {
     "name": "stderr",
     "output_type": "stream",
     "text": [
      "/opt/conda/lib/python3.10/site-packages/sklearn/preprocessing/_label.py:895: UserWarning: unknown class(es) [\"['A Brief Drug Reference', 'Some Rude Humor']\", \"['A Brief Violent Image', 'Some Thematic Elements']\", \"['A Crude Reference', 'Some Sexual Material', 'Brief Strong Language']\", \"['A Sequence of Nudity', 'Some Disturbing Images']\", \"['Bloody Violence', 'Sexual Content', 'Nudity']\", \"['Brief Language', 'Some Mild Thematic Elements']\", \"['Brief Language', 'Violent Images']\", \"['Brief Nudity', 'Sexual References', 'Pervasive Language']\", \"['Brief Sexual Material', 'Some Language']\", \"['Brief Violence/Bloody Images']\", \"['Comic Violent Images', 'Drug Content']\", \"['Dialogue', 'Strong Sexual Content', 'Nudity']\", \"['Drug Content', 'Language']\", \"['Drug Use', 'Disturbing Images', 'Language', 'Some Nudity', 'Violence']\", \"['Gore', 'Drug Use', 'Bloody Horror Violence', 'Language', 'Some Sexual Content/Nudity']\", \"['Language Throughout', 'Drug Use', 'A Brief Nude Image', 'Violence']\", \"['Language Throughout', 'Graphic Nudity', 'Drug Use', 'Sexual Content']\", \"['Language', 'Aberrant Violent Content', 'Aberrant Sexual Content', 'Nudity']\", \"['Language', 'Bloody Violence', 'Sexual References', 'Some Nudity']\", \"['Language', 'Brief Sexual Content', 'Bloody Horror Violence', 'Terror']\", \"['Language', 'Gore', 'Some Sexual Content', 'Strong Horror Violence']\", \"['Language', 'Horror Violence and Gore', 'Sexual References', 'Some Drug Use']\", \"['Language', 'Horror Violence', 'Brief Drug Use', 'Some Sexual Content']\", \"['Language', 'Sexual Content/Dialogue', 'Nudity']\", \"['Language', 'Some Disturbing Images']\", \"['Mild Sexual Content', 'Some Language']\", \"['Mild Thematic Material', 'Brief Language']\", \"['Nudity', 'Language Throughout', 'Sexual Content', 'Some Drug Use', 'Strong Violence']\", \"['Pervasive Language', 'Drug Use', 'Sexual Content', 'Strong Bloody Horror Violence']\", \"['Pervasive Nudity', 'Language', 'Brief Violence', 'Pervasive Sexual Content', 'Some Drug Content']\", \"['Scene of Sensuality', 'Violence']\", \"['Sexual Content', 'Language Throughout', 'Brief Graphic Nudity', 'Teen Drinking and Drug Use']\", \"['Sexual Content', 'Pervasive Language', 'Drug and Alcohol Use', 'Some Violence']\", \"['Sexual Material', 'Some Language', 'Smoking']\", \"['Sexual References', 'Disturbing Gory Violence', 'Brief Nudity', 'Strong Language']\", \"['Sexuality', 'Nudity', 'Drug Content', 'Some Language', 'Strong Gory Violence']\", \"['Some Drug Use and Nudity']\", \"['Some Horror Violence/Images']\", \"['Some Sexual References', 'Language Throughout', 'Strong Violence']\", \"['Some Strong Language', 'Mature Thematic Content', 'Disturbing Images', 'Violence/Terror']\", \"['Some Thematic Elements', 'Mild Language']\", \"['Strong Bloody Horror Violence', 'Some Language']\", \"['Strong Sexuality', 'Drug Use', 'Rape', 'Language', 'Violence']\", \"['Strong Violence', 'Language', 'Some Drug Use', 'Sexuality/Nudity']\", \"['Suggestive Content', 'Mature Content']\", \"['Teen Drinking and Smoking', 'Some Suggestive Situations', 'Disturbing Violent Content', 'Thematic Material']\", \"['Thematic Elements', 'Some Racial Tension/Violence']\", \"['Thematic Material', 'Hardships', 'Peril', 'Language']\", \"['Thematic Material', 'Some Violent Content', 'Brief Language']\", \"['Violence', 'Language', 'Some Sexuality', 'Nudity']\", \"['Violent Imagery', 'Some Sexuality']\", \"['Violent and Disturbing Images']\"] will be ignored\n",
      "  warnings.warn(\n"
     ]
    },
    {
     "name": "stdout",
     "output_type": "stream",
     "text": [
      "Accuracy: 84.31%\n"
     ]
    },
    {
     "name": "stderr",
     "output_type": "stream",
     "text": [
      "/opt/conda/lib/python3.10/site-packages/sklearn/preprocessing/_label.py:895: UserWarning: unknown class(es) [\"['A Brief Drug Reference', 'Some Rude Humor']\", \"['A Brief Violent Image', 'Some Thematic Elements']\", \"['A Crude Reference', 'Some Sexual Material', 'Brief Strong Language']\", \"['A Sequence of Nudity', 'Some Disturbing Images']\", \"['Bloody Violence', 'Sexual Content', 'Nudity']\", \"['Bloody Violence', 'Terror', 'Disturbing Images']\", \"['Brief Language', 'Some Mild Thematic Elements']\", \"['Brief Language', 'Violent Images']\", \"['Brief Nudity', 'Sexual References', 'Pervasive Language']\", \"['Brief Sexual Material', 'Some Language']\", \"['Brief Violence/Bloody Images']\", \"['Comic Violent Images', 'Drug Content']\", \"['Dialogue', 'Strong Sexual Content', 'Nudity']\", \"['Drug Content', 'Language']\", \"['Drug Use', 'Disturbing Images', 'Language', 'Some Nudity', 'Violence']\", \"['Gore', 'Drug Use', 'Bloody Horror Violence', 'Language', 'Some Sexual Content/Nudity']\", \"['Language Throughout', 'Drug Use', 'A Brief Nude Image', 'Violence']\", \"['Language Throughout', 'Graphic Nudity', 'Drug Use', 'Sexual Content']\", \"['Language', 'Aberrant Violent Content', 'Aberrant Sexual Content', 'Nudity']\", \"['Language', 'Bloody Violence', 'Sexual References', 'Some Nudity']\", \"['Language', 'Brief Sexual Content', 'Bloody Horror Violence', 'Terror']\", \"['Language', 'Gore', 'Some Sexual Content', 'Strong Horror Violence']\", \"['Language', 'Horror Violence and Gore', 'Sexual References', 'Some Drug Use']\", \"['Language', 'Horror Violence', 'Brief Drug Use', 'Some Sexual Content']\", \"['Language', 'Sexual Content/Dialogue', 'Nudity']\", \"['Language', 'Some Disturbing Images']\", \"['Mild Sexual Content', 'Some Language']\", \"['Mild Thematic Material', 'Brief Language']\", \"['Nudity', 'Language Throughout', 'Sexual Content', 'Some Drug Use', 'Strong Violence']\", \"['Pervasive Language', 'Drug Use', 'Sexual Content', 'Strong Bloody Horror Violence']\", \"['Pervasive Language', 'Strong Brutal Violence', 'Some Torture']\", \"['Pervasive Nudity', 'Language', 'Brief Violence', 'Pervasive Sexual Content', 'Some Drug Content']\", \"['Pervasive Smoking', 'Thematic Material']\", \"['Scene of Sensuality', 'Violence']\", \"['Sexual Content', 'Language Throughout', 'Brief Graphic Nudity', 'Teen Drinking and Drug Use']\", \"['Sexual Content', 'Pervasive Language', 'Drug and Alcohol Use', 'Some Violence']\", \"['Sexual Material', 'Some Language', 'Smoking']\", \"['Sexual References', 'Disturbing Gory Violence', 'Brief Nudity', 'Strong Language']\", \"['Sexuality', 'Nudity', 'Drug Content', 'Some Language', 'Strong Gory Violence']\", \"['Some Drug Use and Nudity']\", \"['Some Drug Use', 'Pervasive Language', 'Brief Graphic Nudity', 'Strong Sexual Content', 'Violence']\", \"['Some Horror Violence/Images']\", \"['Some Sexual References', 'Language Throughout', 'Strong Violence']\", \"['Some Strong Language', 'Mature Thematic Content', 'Disturbing Images', 'Violence/Terror']\", \"['Some Teen Marijuana Use']\", \"['Some Thematic Elements', 'Mild Language']\", \"['Strong Bloody Horror Violence', 'Some Language']\", \"['Strong Sexuality', 'Drug Use', 'Rape', 'Language', 'Violence']\", \"['Strong Violence', 'Language', 'Some Drug Use', 'Sexuality/Nudity']\", \"['Suggestive Content', 'Mature Content']\", \"['Teen Drinking and Smoking', 'Some Suggestive Situations', 'Disturbing Violent Content', 'Thematic Material']\", \"['Thematic Elements', 'Some Racial Tension/Violence']\", \"['Thematic Material', 'Hardships', 'Peril', 'Language']\", \"['Thematic Material', 'Some Violent Content', 'Brief Language']\", \"['Violence', 'Language', 'Some Sexuality', 'Nudity']\", \"['Violent Imagery', 'Some Sexuality']\", \"['Violent and Disturbing Images']\"] will be ignored\n",
      "  warnings.warn(\n"
     ]
    }
   ],
   "source": [
    "logreg_pipeline_bal = imbPipeline([\n",
    "    ('preprocessor', preprocessor_updated),\n",
    "    ('smote',SMOTE(random_state=42)),\n",
    "    ('feature_selection', SelectKBest(f_classif, k=k_features)),\n",
    "    ('classifier', LogisticRegression(max_iter=1000,solver='saga',random_state=42))\n",
    "])\n",
    "logreg_pipeline_bal.fit(X_train,y_train)\n",
    "y_pred = logreg_pipeline_bal.predict(X_val)\n",
    "accuracy = f1_score(y_val, y_pred)\n",
    "print(f\"Accuracy: {accuracy * 100:.2f}%\")\n",
    "predictions = logreg_pipeline.predict(X_test)\n",
    "ids = range(len(predictions))\n",
    "predictions=['POSITIVE' if x==1 else 'NEGATIVE' for x in predictions]\n",
    "final_prediction = pd.DataFrame({\"id\": ids, \"sentiment\": predictions})\n",
    "final_prediction.to_csv(\"submission2.csv\", index = False)"
   ]
  },
  {
   "cell_type": "code",
   "execution_count": 29,
   "id": "2eb948a9",
   "metadata": {
    "execution": {
     "iopub.execute_input": "2023-09-01T12:39:52.507489Z",
     "iopub.status.busy": "2023-09-01T12:39:52.507118Z",
     "iopub.status.idle": "2023-09-01T12:39:52.511953Z",
     "shell.execute_reply": "2023-09-01T12:39:52.510492Z"
    },
    "papermill": {
     "duration": 0.023886,
     "end_time": "2023-09-01T12:39:52.513852",
     "exception": false,
     "start_time": "2023-09-01T12:39:52.489966",
     "status": "completed"
    },
    "tags": []
   },
   "outputs": [],
   "source": [
    "# SVC_pipeline_bal = imbPipeline([\n",
    "#     ('preprocessor', preprocessor_updated),\n",
    "#     ('smote',SMOTE(random_state=42)),\n",
    "#     ('feature_selection', SelectKBest(f_classif, k=k_features)),\n",
    "#     ('classifier', SVC())\n",
    "# ])\n",
    "# SVC_pipeline_bal.fit(X_train,y_train)\n",
    "# y_pred = SVC_pipeline_bal.predict(X_val)\n",
    "# accuracy = f1_score(y_val, y_pred)\n",
    "# print(f\"Accuracy: {accuracy * 100:.2f}%\")"
   ]
  },
  {
   "cell_type": "code",
   "execution_count": null,
   "id": "0dd062f0",
   "metadata": {
    "papermill": {
     "duration": 0.014976,
     "end_time": "2023-09-01T12:39:52.544037",
     "exception": false,
     "start_time": "2023-09-01T12:39:52.529061",
     "status": "completed"
    },
    "tags": []
   },
   "outputs": [],
   "source": []
  }
 ],
 "kernelspec": {
  "display_name": "Python 3",
  "language": "python",
  "name": "python3"
 },
 "language_info": {
  "codemirror_mode": {
   "name": "ipython",
   "version": 3
  },
  "file_extension": ".py",
  "mimetype": "text/x-python",
  "name": "python",
  "nbconvert_exporter": "python",
  "pygments_lexer": "ipython3",
  "version": "3.6.4"
 },
 "metadata": {
  "kernelspec": {
   "display_name": "Python 3",
   "language": "python",
   "name": "python3"
  },
  "language_info": {
   "codemirror_mode": {
    "name": "ipython",
    "version": 3
   },
   "file_extension": ".py",
   "mimetype": "text/x-python",
   "name": "python",
   "nbconvert_exporter": "python",
   "pygments_lexer": "ipython3",
   "version": "3.10.10"
  },
  "papermill": {
   "default_parameters": {},
   "duration": 333.978272,
   "end_time": "2023-09-01T12:39:53.785086",
   "environment_variables": {},
   "exception": null,
   "input_path": "__notebook__.ipynb",
   "output_path": "__notebook__.ipynb",
   "parameters": {},
   "start_time": "2023-09-01T12:34:19.806814",
   "version": "2.4.0"
  }
 },
 "nbformat": 4,
 "nbformat_minor": 5
}
